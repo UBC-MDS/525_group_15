{
 "cells": [
  {
   "cell_type": "markdown",
   "id": "5d529b4b-cb49-4515-9e3d-ad98de882d4f",
   "metadata": {},
   "source": [
    "# MDS DSCI 525 - Group 15 Milestone 1"
   ]
  },
  {
   "cell_type": "markdown",
   "id": "1bac66e5-bbf0-4118-b7ff-258e48bd1529",
   "metadata": {},
   "source": [
    "**Author**: Lennon Lok Lam Au-Yeung, Ken Wang, Ty Andrews, Peng Zhang"
   ]
  },
  {
   "cell_type": "markdown",
   "id": "04cae8c8-ef7f-4a5c-be2d-bbae7e21011f",
   "metadata": {},
   "source": [
    "## Step 0 Importing library"
   ]
  },
  {
   "cell_type": "code",
   "execution_count": null,
   "id": "4da0b4f8-25a0-48e7-8e68-a625a814451f",
   "metadata": {},
   "outputs": [],
   "source": [
    "import re\n",
    "import os\n",
    "import glob\n",
    "import zipfile\n",
    "import requests\n",
    "from urllib.request import urlretrieve\n",
    "import json\n",
    "import pandas as pd"
   ]
  },
  {
   "cell_type": "markdown",
   "id": "57086d55-24af-46b8-aa3c-a789b4bdf606",
   "metadata": {},
   "source": [
    "## Step 1 Downloading the data via API"
   ]
  },
  {
   "cell_type": "markdown",
   "id": "216f19fd-62b1-4516-9499-910b4945fbfd",
   "metadata": {},
   "source": [
    "Navigate to the location of your computer where you would like to download the files to."
   ]
  },
  {
   "cell_type": "code",
   "execution_count": null,
   "id": "fa3c94b7-6be0-4987-9b43-5d6b94cdec6f",
   "metadata": {},
   "outputs": [],
   "source": [
    "%cd ~/MDS/525_labs/figshareexp\n",
    "## Change it to the location that you want to download your files to."
   ]
  },
  {
   "cell_type": "code",
   "execution_count": null,
   "id": "9dc80840-a17c-43d2-93ca-c6b53d316f82",
   "metadata": {},
   "outputs": [],
   "source": [
    "# Necessary metadata\n",
    "article_id = 14096681  # this is the unique identifier of the article on figshare\n",
    "url = f\"https://api.figshare.com/v2/articles/{article_id}\"\n",
    "headers = {\"Content-Type\": \"application/json\"}\n",
    "output_directory = \"figsharerainfall/\""
   ]
  },
  {
   "cell_type": "code",
   "execution_count": null,
   "id": "2434a8d8-028f-48b3-b322-ebc1e678eb61",
   "metadata": {},
   "outputs": [],
   "source": [
    "response = requests.request(\"GET\", url, headers=headers)\n",
    "data = json.loads(response.text)  # this contains all the articles data\n",
    "files = data[\"files\"]             # this is just the data about the files, which is what we want\n",
    "files"
   ]
  },
  {
   "cell_type": "code",
   "execution_count": null,
   "id": "1679afc8-1ced-41eb-861e-977223ee8109",
   "metadata": {},
   "outputs": [],
   "source": [
    "%%time\n",
    "files_to_dl = [\"data.zip\"] \n",
    "for file in files:\n",
    "    if file[\"name\"] in files_to_dl:\n",
    "        os.makedirs(output_directory, exist_ok=True)\n",
    "        urlretrieve(file[\"download_url\"], output_directory + file[\"name\"])"
   ]
  },
  {
   "cell_type": "code",
   "execution_count": null,
   "id": "4e6be83e-40b0-4790-851f-f1a333816100",
   "metadata": {},
   "outputs": [],
   "source": [
    "%%time\n",
    "with zipfile.ZipFile(os.path.join(output_directory, \"data.zip\"), 'r') as f:\n",
    "    f.extractall(output_directory)"
   ]
  },
  {
   "cell_type": "code",
   "execution_count": null,
   "id": "b448f349-b5e4-48ae-b78e-8441e841aecb",
   "metadata": {},
   "outputs": [],
   "source": [
    "%ls -ltr figsharerainfall"
   ]
  },
  {
   "cell_type": "markdown",
   "id": "0cf71948-3829-420e-8e3b-7479db7a50be",
   "metadata": {
    "tags": []
   },
   "source": [
    "## Step 2 Combining data CSVs"
   ]
  },
  {
   "cell_type": "markdown",
   "id": "fea834f3-8665-4a5a-af99-5aa031533c24",
   "metadata": {},
   "source": [
    "Combine csv files into one file. Note that `observed_daily_rainfall_SYD.csv` has been manually removed as per the milestone 1 requirement."
   ]
  },
  {
   "cell_type": "code",
   "execution_count": null,
   "id": "611fa5f8-072e-4034-8770-02043e450394",
   "metadata": {},
   "outputs": [],
   "source": [
    "%%time\n",
    "# We are using a normal python way for merging the data \n",
    "# add extra column of \"model\"\n",
    "use_cols = [\"time\", \"lat_min\", \"lat_max\", \"lon_min\",\"lon_max\",\"rain (mm/day)\"]\n",
    "files = glob.glob('figsharerainfall/*.csv')\n",
    "df = pd.concat((pd.read_csv(file, index_col=0, usecols=use_cols)\n",
    "                .assign(model=re.findall(\"/([^_]*)\", file)[0])\n",
    "                for file in files)\n",
    "              )\n",
    "df.to_csv(\"figsharerainfall/combined_data.csv\")"
   ]
  },
  {
   "cell_type": "markdown",
   "id": "394093a7-5b11-411a-8f5e-d531c3d0c639",
   "metadata": {},
   "source": [
    "Compare the time for combining CSVs on team member's local computers. See the following table for results."
   ]
  },
  {
   "cell_type": "markdown",
   "id": "681ecfff-e533-45b3-b7a9-402ec4d1ad5c",
   "metadata": {},
   "source": [
    "| Team Member | Operating System | RAM | Processor | Is SSD | Time taken |\n",
    "|:-----------:|:----------------:|:---:|:---------:|:------:|:----------:|\n",
    "| Lennon Lok Lam |  MacOS Ventura V13.2.1 |  16GB  | Apple M1 Pro  | Yes | 3min 25s |\n",
    "| Ken            | Ubuntu 18.04 | 4GB + 8GB swap|Intel N4020 @ 1.10Ghz |Yes | 28min |\n",
    "| Ty             |  Windows 11  |32GB | Intel 11th Gen i7  | Yes  | 13min 41s  |\n",
    "| Peng           | MacOS Ventura V13.2.1 | 16GB | Apple M2 | Yes | 3min 8s  |"
   ]
  },
  {
   "cell_type": "markdown",
   "id": "2f0842d9",
   "metadata": {},
   "source": [
    "From the above table, we can see that machines with Apple ARM processors has a much quicker processing time than using Windows OS, even though it has more RAM and a recent generation of CPU regarding Ty's machine. This might be because of the efficiency of the Apple chip and its optimizaion of the MacOS system. All of our computers has SSD so we are not able to compare the results between SSD and HDD. "
   ]
  },
  {
   "cell_type": "markdown",
   "id": "d2847197",
   "metadata": {},
   "source": [
    "Challenges faced for Ubuntu 18.04, Intel N4020 @ 1.10GHz:\n",
    "The combining takes a lot memory. Since my laptop only has 4GB RAM, the notebook kernel crashed when it ran out of RAM. Then I added 8GB swap to the system and this time the combining code ran fine. The processing took 28 minutes and I think it's so slow mainly because it's using a lot swap."
   ]
  },
  {
   "cell_type": "markdown",
   "id": "0dba2531-7e21-48bc-9d1c-0e138ba1da3c",
   "metadata": {
    "tags": []
   },
   "source": [
    "## Step 3 Load combined CSV to memory and perform a simple EDA in Python"
   ]
  },
  {
   "cell_type": "markdown",
   "id": "7ed29af3-b52f-4d6c-a23a-713dd7b3b3c6",
   "metadata": {},
   "source": [
    "We have tried changing the `dtype` of our data and loading in chunks"
   ]
  },
  {
   "cell_type": "code",
   "execution_count": null,
   "id": "10d455be-071f-4709-b453-297c8b12b1bd",
   "metadata": {},
   "outputs": [],
   "source": [
    "df = pd.read_csv(\"figsharerainfall/combined_data.csv\", index_col = 'time')\n",
    "df2 = pd.read_csv(\"figsharerainfall/combined_data.csv\", index_col = 'time',\n",
    "                  dtype= {'lat_min':'float32','lat_max':'float32','lon_min':'float32','lon_max':'float32','rain (mm/day)':'float32'})"
   ]
  },
  {
   "cell_type": "code",
   "execution_count": null,
   "id": "fea92fab-b59e-4cc1-a71d-9a98fc7e4156",
   "metadata": {},
   "outputs": [],
   "source": [
    "df.info()"
   ]
  },
  {
   "cell_type": "code",
   "execution_count": null,
   "id": "5a4288c7-1254-4848-910a-1aaec0d3ab34",
   "metadata": {},
   "outputs": [],
   "source": [
    "df2.info()"
   ]
  },
  {
   "cell_type": "code",
   "execution_count": null,
   "id": "0e4b3fbb-e4a8-4384-901e-3a15ef2a3ac9",
   "metadata": {},
   "outputs": [],
   "source": [
    "print(f\"Memory usage with float64: {df.memory_usage().sum() / 1e6:.2f} MB\")\n",
    "print(f\"Memory usage with float32: {df2.memory_usage().sum() / 1e6:.2f} MB\")"
   ]
  },
  {
   "cell_type": "markdown",
   "id": "9e2cc613-b80c-4b57-b20c-d0da7816a34b",
   "metadata": {},
   "source": [
    "As we can see from the message above, using `float32` has a lower memory usage."
   ]
  },
  {
   "cell_type": "markdown",
   "id": "97bbc3bd-bc9a-403e-af34-6f1484ac1f7c",
   "metadata": {},
   "source": [
    "The following we tried loading the data and doing EDA in the normal way that we usually do."
   ]
  },
  {
   "cell_type": "code",
   "execution_count": null,
   "id": "b408447d-51c9-4e14-9afa-67c6aa84e14b",
   "metadata": {},
   "outputs": [],
   "source": [
    "%%time\n",
    "df = pd.read_csv(\"figsharerainfall/combined_data.csv\", index_col = 'time')\n",
    "print(df[\"model\"].value_counts())"
   ]
  },
  {
   "cell_type": "markdown",
   "id": "2ed65667-08d2-4e97-853b-874e00ed92c9",
   "metadata": {},
   "source": [
    "This time we tried loading the data in chuncks and counting them in chunks"
   ]
  },
  {
   "cell_type": "code",
   "execution_count": null,
   "id": "0a640dba-31bd-4752-959e-8dde02795085",
   "metadata": {},
   "outputs": [],
   "source": [
    "%%time\n",
    "counts = pd.Series(dtype=int)\n",
    "for chunk in  pd.read_csv(\"figsharerainfall/combined_data.csv\",\n",
    "                          chunksize=10_000_000, usecols=['model']):\n",
    "    counts = counts.add(chunk[\"model\"].value_counts(), fill_value=0)\n",
    "print(counts.astype(int).sort_values(ascending = False))"
   ]
  },
  {
   "cell_type": "markdown",
   "id": "b1a374da-e5b1-4fa9-9ba1-a0f0df671b03",
   "metadata": {},
   "source": [
    "As we can see from the comparison above, doing EDA only with the columns we need and loading it in chunks have reduced the time required to complete EDA."
   ]
  },
  {
   "cell_type": "markdown",
   "id": "dea6085e-d5a7-40fe-8d5f-57b18174551d",
   "metadata": {},
   "source": [
    "Compare the time for `value_counts` on team member's local computers. See the following table for results."
   ]
  },
  {
   "cell_type": "markdown",
   "id": "05d5a162-217c-4c0f-9685-5cfdccfc5114",
   "metadata": {},
   "source": [
    "| Team Member | Operating System | RAM | Processor | Is SSD | Time taken |\n",
    "|:-----------:|:----------------:|:---:|:---------:|:------:|:----------:|\n",
    "| Lennon|  MacOS Ventura V13.2.1 |  16GB  | Apple M1 Pro  | Yes | 6s|\n",
    "| Ken            |  Ubuntu 18.04|4GB + 8GB swap| Intel N4040 @ 1.10GHz|Yes|            |\n",
    "| Ty             |  Windows 11  |32GB | Intel 11th Gen i7  | Yes  | |\n",
    "| Peng           | MacOS Ventura V13.2.1 | 16GB | Apple M2 | Yes | 16s  |"
   ]
  },
  {
   "cell_type": "markdown",
   "id": "9836f4d0-cee6-4242-b507-7c706f5192bb",
   "metadata": {},
   "source": [
    "## Step 4 Perform a simple EDA in R"
   ]
  },
  {
   "cell_type": "code",
   "execution_count": null,
   "id": "7a003b8d-d4ad-4f00-b470-c8fea71bfceb",
   "metadata": {},
   "outputs": [],
   "source": [
    "import os\n",
    "os.environ['R_HOME'] = '/opt/miniconda3/envs/525_2023/lib/R'"
   ]
  },
  {
   "cell_type": "code",
   "execution_count": null,
   "id": "13016132-a5f0-4b55-9476-73c7fe05dc59",
   "metadata": {},
   "outputs": [],
   "source": [
    "%load_ext rpy2.ipython"
   ]
  },
  {
   "cell_type": "code",
   "execution_count": null,
   "id": "31e0893f-0e03-4eeb-ba10-450b02ea8430",
   "metadata": {},
   "outputs": [],
   "source": [
    "%cd ~/Desktop/MDS/Block6/DSCI525/figsharerainfall"
   ]
  }
 ],
 "metadata": {
  "kernelspec": {
   "display_name": "Python [conda env:525_2023]",
   "language": "python",
   "name": "conda-env-525_2023-py"
  },
  "language_info": {
   "codemirror_mode": {
    "name": "ipython",
    "version": 3
   },
   "file_extension": ".py",
   "mimetype": "text/x-python",
   "name": "python",
   "nbconvert_exporter": "python",
   "pygments_lexer": "ipython3",
   "version": "3.10.10"
  }
 },
 "nbformat": 4,
 "nbformat_minor": 5
}
