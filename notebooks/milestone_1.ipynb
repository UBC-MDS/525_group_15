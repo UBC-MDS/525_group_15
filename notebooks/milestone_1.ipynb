{
 "cells": [
  {
   "cell_type": "markdown",
   "id": "5d529b4b-cb49-4515-9e3d-ad98de882d4f",
   "metadata": {},
   "source": [
    "# MDS DSCI 525 - Group 15 Milestone 1"
   ]
  },
  {
   "cell_type": "markdown",
   "id": "1bac66e5-bbf0-4118-b7ff-258e48bd1529",
   "metadata": {},
   "source": [
    "**Author**: Lennon Lok Lam Au-Yeung, Ken Wang, Ty Andrews, Peng Zhang"
   ]
  },
  {
   "cell_type": "markdown",
   "id": "04cae8c8-ef7f-4a5c-be2d-bbae7e21011f",
   "metadata": {},
   "source": [
    "## Step 0 Importing library"
   ]
  },
  {
   "cell_type": "code",
   "execution_count": 1,
   "id": "4da0b4f8-25a0-48e7-8e68-a625a814451f",
   "metadata": {},
   "outputs": [],
   "source": [
    "import re\n",
    "import os\n",
    "import glob\n",
    "import zipfile\n",
    "import requests\n",
    "from urllib.request import urlretrieve\n",
    "import json\n",
    "import pandas as pd"
   ]
  },
  {
   "cell_type": "markdown",
   "id": "57086d55-24af-46b8-aa3c-a789b4bdf606",
   "metadata": {},
   "source": [
    "## Step 1 Downloading the data via API"
   ]
  },
  {
   "cell_type": "markdown",
   "id": "216f19fd-62b1-4516-9499-910b4945fbfd",
   "metadata": {},
   "source": [
    "Navigate to the location of your computer where you would like to download the files to."
   ]
  },
  {
   "cell_type": "code",
   "execution_count": 3,
   "id": "fa3c94b7-6be0-4987-9b43-5d6b94cdec6f",
   "metadata": {},
   "outputs": [
    {
     "name": "stdout",
     "output_type": "stream",
     "text": [
      "/Users/lennon/Downloads\n"
     ]
    }
   ],
   "source": [
    "#%cd ~/MDS/525_labs/figshareexp\n",
    "%cd /Users/lennon/Downloads\n",
    "## Change it to the location that you want to download your files to."
   ]
  },
  {
   "cell_type": "code",
   "execution_count": 3,
   "id": "9dc80840-a17c-43d2-93ca-c6b53d316f82",
   "metadata": {},
   "outputs": [],
   "source": [
    "# Necessary metadata\n",
    "article_id = 14096681  # this is the unique identifier of the article on figshare\n",
    "url = f\"https://api.figshare.com/v2/articles/{article_id}\"\n",
    "headers = {\"Content-Type\": \"application/json\"}\n",
    "output_directory = \"figsharerainfall/\""
   ]
  },
  {
   "cell_type": "code",
   "execution_count": 4,
   "id": "2434a8d8-028f-48b3-b322-ebc1e678eb61",
   "metadata": {},
   "outputs": [
    {
     "data": {
      "text/plain": [
       "[{'id': 26579150,\n",
       "  'name': 'daily_rainfall_2014.png',\n",
       "  'size': 58863,\n",
       "  'is_link_only': False,\n",
       "  'download_url': 'https://ndownloader.figshare.com/files/26579150',\n",
       "  'supplied_md5': 'fd32a2ffde300a31f8d63b1825d47e5e',\n",
       "  'computed_md5': 'fd32a2ffde300a31f8d63b1825d47e5e'},\n",
       " {'id': 26579171,\n",
       "  'name': 'environment.yml',\n",
       "  'size': 192,\n",
       "  'is_link_only': False,\n",
       "  'download_url': 'https://ndownloader.figshare.com/files/26579171',\n",
       "  'supplied_md5': '060b2020017eed93a1ee7dd8c65b2f34',\n",
       "  'computed_md5': '060b2020017eed93a1ee7dd8c65b2f34'},\n",
       " {'id': 26586554,\n",
       "  'name': 'README.md',\n",
       "  'size': 5422,\n",
       "  'is_link_only': False,\n",
       "  'download_url': 'https://ndownloader.figshare.com/files/26586554',\n",
       "  'supplied_md5': '61858c6cc0e6a6d6663a7e4c75bbd88c',\n",
       "  'computed_md5': '61858c6cc0e6a6d6663a7e4c75bbd88c'},\n",
       " {'id': 26766812,\n",
       "  'name': 'data.zip',\n",
       "  'size': 814041183,\n",
       "  'is_link_only': False,\n",
       "  'download_url': 'https://ndownloader.figshare.com/files/26766812',\n",
       "  'supplied_md5': 'b517383f76e77bd03755a63a8ff83ee9',\n",
       "  'computed_md5': 'b517383f76e77bd03755a63a8ff83ee9'},\n",
       " {'id': 26766815,\n",
       "  'name': 'get_data.py',\n",
       "  'size': 4113,\n",
       "  'is_link_only': False,\n",
       "  'download_url': 'https://ndownloader.figshare.com/files/26766815',\n",
       "  'supplied_md5': '7829028495fd9dec9680ea013474afa6',\n",
       "  'computed_md5': '7829028495fd9dec9680ea013474afa6'}]"
      ]
     },
     "execution_count": 4,
     "metadata": {},
     "output_type": "execute_result"
    }
   ],
   "source": [
    "response = requests.request(\"GET\", url, headers=headers)\n",
    "data = json.loads(response.text)  # this contains all the articles data\n",
    "files = data[\"files\"]             # this is just the data about the files, which is what we want\n",
    "files"
   ]
  },
  {
   "cell_type": "code",
   "execution_count": 5,
   "id": "1679afc8-1ced-41eb-861e-977223ee8109",
   "metadata": {},
   "outputs": [
    {
     "name": "stdout",
     "output_type": "stream",
     "text": [
      "CPU times: user 5.31 s, sys: 15.2 s, total: 20.5 s\n",
      "Wall time: 7min 18s\n"
     ]
    }
   ],
   "source": [
    "%%time\n",
    "files_to_dl = [\"data.zip\"] \n",
    "for file in files:\n",
    "    if file[\"name\"] in files_to_dl:\n",
    "        os.makedirs(output_directory, exist_ok=True)\n",
    "        urlretrieve(file[\"download_url\"], output_directory + file[\"name\"])"
   ]
  },
  {
   "attachments": {},
   "cell_type": "markdown",
   "id": "e059f83c",
   "metadata": {},
   "source": [
    "Extracting the zip file."
   ]
  },
  {
   "cell_type": "code",
   "execution_count": 6,
   "id": "4e6be83e-40b0-4790-851f-f1a333816100",
   "metadata": {},
   "outputs": [
    {
     "name": "stdout",
     "output_type": "stream",
     "text": [
      "CPU times: user 7.76 s, sys: 1.21 s, total: 8.97 s\n",
      "Wall time: 9.16 s\n"
     ]
    }
   ],
   "source": [
    "%%time\n",
    "with zipfile.ZipFile(os.path.join(output_directory, \"data.zip\"), 'r') as f:\n",
    "    f.extractall(output_directory)"
   ]
  },
  {
   "cell_type": "code",
   "execution_count": 7,
   "id": "b448f349-b5e4-48ae-b78e-8441e841aecb",
   "metadata": {},
   "outputs": [
    {
     "name": "stdout",
     "output_type": "stream",
     "text": [
      "total 12048944\n",
      "-rw-r--r--   1 lennon  staff  814041183 Mar 30 10:04 data.zip\n",
      "-rw-r--r--   1 lennon  staff   95376895 Mar 30 10:04 MPI-ESM-1-2-HAM_daily_rainfall_NSW.csv\n",
      "-rw-r--r--   1 lennon  staff   94960113 Mar 30 10:04 AWI-ESM-1-1-LR_daily_rainfall_NSW.csv\n",
      "-rw-r--r--   1 lennon  staff   82474546 Mar 30 10:04 NorESM2-LM_daily_rainfall_NSW.csv\n",
      "-rw-r--r--   1 lennon  staff  127613760 Mar 30 10:04 ACCESS-CM2_daily_rainfall_NSW.csv\n",
      "-rw-r--r--   1 lennon  staff  232118894 Mar 30 10:04 FGOALS-f3-L_daily_rainfall_NSW.csv\n",
      "-rw-r--r--   1 lennon  staff  330360682 Mar 30 10:04 CMCC-CM2-HR4_daily_rainfall_NSW.csv\n",
      "-rw-r--r--   1 lennon  staff  254009247 Mar 30 10:04 MRI-ESM2-0_daily_rainfall_NSW.csv\n",
      "-rw-r--r--   1 lennon  staff  235661418 Mar 30 10:04 GFDL-CM4_daily_rainfall_NSW.csv\n",
      "-rw-r--r--   1 lennon  staff  294260911 Mar 30 10:04 BCC-CSM2-MR_daily_rainfall_NSW.csv\n",
      "-rw-r--r--   1 lennon  staff  295768615 Mar 30 10:04 EC-Earth3-Veg-LR_daily_rainfall_NSW.csv\n",
      "-rw-r--r--   1 lennon  staff  328852379 Mar 30 10:04 CMCC-ESM2_daily_rainfall_NSW.csv\n",
      "-rw-r--r--   1 lennon  staff   67784105 Mar 30 10:04 NESM3_daily_rainfall_NSW.csv\n",
      "-rw-r--r--   1 lennon  staff   95640682 Mar 30 10:04 MPI-ESM1-2-LR_daily_rainfall_NSW.csv\n",
      "-rw-r--r--   1 lennon  staff  114707410 Mar 30 10:04 ACCESS-ESM1-5_daily_rainfall_NSW.csv\n",
      "-rw-r--r--   1 lennon  staff  116179272 Mar 30 10:04 FGOALS-g3_daily_rainfall_NSW.csv\n",
      "-rw-r--r--   1 lennon  staff  102517965 Mar 30 10:04 INM-CM4-8_daily_rainfall_NSW.csv\n",
      "-rw-r--r--   1 lennon  staff  515458033 Mar 30 10:04 MPI-ESM1-2-HR_daily_rainfall_NSW.csv\n",
      "-rw-r--r--   1 lennon  staff  332813281 Mar 30 10:04 TaiESM1_daily_rainfall_NSW.csv\n",
      "-rw-r--r--   1 lennon  staff  337555851 Mar 30 10:04 NorESM2-MM_daily_rainfall_NSW.csv\n",
      "-rw-r--r--   1 lennon  staff  328787320 Mar 30 10:04 CMCC-CM2-SR5_daily_rainfall_NSW.csv\n",
      "-rw-r--r--   1 lennon  staff     952202 Mar 30 10:04 observed_daily_rainfall_SYD.csv\n",
      "-rw-r--r--   1 lennon  staff   93829697 Mar 30 10:04 KIOST-ESM_daily_rainfall_NSW.csv\n",
      "-rw-r--r--   1 lennon  staff  102692289 Mar 30 10:04 INM-CM5-0_daily_rainfall_NSW.csv\n",
      "-rw-r--r--   1 lennon  staff  206822938 Mar 30 10:04 MIROC6_daily_rainfall_NSW.csv\n",
      "-rw-r--r--   1 lennon  staff   55224437 Mar 30 10:04 BCC-ESM1_daily_rainfall_NSW.csv\n",
      "-rw-r--r--   1 lennon  staff  124586961 Mar 30 10:04 GFDL-ESM4_daily_rainfall_NSW.csv\n",
      "-rw-r--r--   1 lennon  staff   46286371 Mar 30 10:04 CanESM5_daily_rainfall_NSW.csv\n",
      "-rw-r--r--   1 lennon  staff  333489879 Mar 30 10:04 SAM0-UNICON_daily_rainfall_NSW.csv\n",
      "drwxr-xr-x  30 lennon  staff        960 Mar 30 10:04 \u001b[1m\u001b[34m__MACOSX\u001b[m\u001b[m/\n"
     ]
    }
   ],
   "source": [
    "%ls -ltr figsharerainfall"
   ]
  },
  {
   "cell_type": "markdown",
   "id": "0cf71948-3829-420e-8e3b-7479db7a50be",
   "metadata": {
    "tags": []
   },
   "source": [
    "## Step 2 Combining data CSVs"
   ]
  },
  {
   "cell_type": "markdown",
   "id": "fea834f3-8665-4a5a-af99-5aa031533c24",
   "metadata": {},
   "source": [
    "Combine csv files into one file. Note that `observed_daily_rainfall_SYD.csv` has been manually removed as per the milestone 1 requirement."
   ]
  },
  {
   "cell_type": "code",
   "execution_count": 8,
   "id": "611fa5f8-072e-4034-8770-02043e450394",
   "metadata": {},
   "outputs": [
    {
     "name": "stdout",
     "output_type": "stream",
     "text": [
      "CPU times: user 3min 18s, sys: 8.75 s, total: 3min 26s\n",
      "Wall time: 3min 28s\n"
     ]
    }
   ],
   "source": [
    "%%time\n",
    "# We are using a normal python way for merging the data \n",
    "# add extra column of \"model\"\n",
    "use_cols = [\"time\", \"lat_min\", \"lat_max\", \"lon_min\",\"lon_max\",\"rain (mm/day)\"]\n",
    "files = glob.glob('figsharerainfall/*.csv')\n",
    "df = pd.concat((pd.read_csv(file, index_col=0, usecols=use_cols)\n",
    "                .assign(model=re.findall(\"/([^_]*)\", file)[0])\n",
    "                for file in files)\n",
    "              )\n",
    "df.to_csv(\"figsharerainfall/combined_data.csv\")"
   ]
  },
  {
   "cell_type": "markdown",
   "id": "394093a7-5b11-411a-8f5e-d531c3d0c639",
   "metadata": {},
   "source": [
    "Compare the time for combining CSVs on team member's local computers. See the following table for results."
   ]
  },
  {
   "cell_type": "markdown",
   "id": "681ecfff-e533-45b3-b7a9-402ec4d1ad5c",
   "metadata": {},
   "source": [
    "| Team Member | Operating System | RAM | Processor | Is SSD | Time taken |\n",
    "|:-----------:|:----------------:|:---:|:---------:|:------:|:----------:|\n",
    "| Lennon Lok Lam |  MacOS Ventura V13.2.1 |  16GB  | Apple M1 Pro  | Yes | 3min 25s |\n",
    "| Ken            | Ubuntu 18.04 | 4GB + 8GB swap|Intel N4020 @ 1.10Ghz |Yes | 28min |\n",
    "| Ty             |  Windows 11  |32GB | Intel 11th Gen i7  | Yes  | 13min 41s  |\n",
    "| Peng           | MacOS Ventura V13.2.1 | 16GB | Apple M2 | Yes | 3min 8s  |"
   ]
  },
  {
   "cell_type": "markdown",
   "id": "2f0842d9",
   "metadata": {},
   "source": [
    "From the above table, we can see that machines with Apple ARM processors has a much quicker processing time than using Windows OS, even though it has more RAM and a recent generation of CPU regarding Ty's machine. This might be because of the efficiency of the Apple chip and its optimizaion of the MacOS system. All of our computers has SSD so we are not able to compare the results between SSD and HDD. "
   ]
  },
  {
   "attachments": {},
   "cell_type": "markdown",
   "id": "d2847197",
   "metadata": {},
   "source": [
    "Challenges faced Ken's machine:\n",
    "The combining takes a lot memory. Since my laptop only has 4GB RAM, the notebook kernel crashed when it ran out of RAM. Then I added 8GB swap to the system and this time the combining code ran fine. The processing took 28 minutes and I think it's so slow mainly because it's using a lot swap."
   ]
  },
  {
   "cell_type": "markdown",
   "id": "0dba2531-7e21-48bc-9d1c-0e138ba1da3c",
   "metadata": {
    "tags": []
   },
   "source": [
    "## Step 3 Load combined CSV to memory and perform a simple EDA in Python"
   ]
  },
  {
   "cell_type": "markdown",
   "id": "7ed29af3-b52f-4d6c-a23a-713dd7b3b3c6",
   "metadata": {},
   "source": [
    "We have tried changing the `dtype` of our data and loading in chunks"
   ]
  },
  {
   "cell_type": "code",
   "execution_count": 9,
   "id": "10d455be-071f-4709-b453-297c8b12b1bd",
   "metadata": {},
   "outputs": [],
   "source": [
    "df = pd.read_csv(\"figsharerainfall/combined_data.csv\", index_col = 'time')\n",
    "df2 = pd.read_csv(\"figsharerainfall/combined_data.csv\", index_col = 'time',\n",
    "                  dtype= {'lat_min':'float32','lat_max':'float32','lon_min':'float32','lon_max':'float32','rain (mm/day)':'float32'})"
   ]
  },
  {
   "cell_type": "code",
   "execution_count": 10,
   "id": "fea92fab-b59e-4cc1-a71d-9a98fc7e4156",
   "metadata": {},
   "outputs": [
    {
     "name": "stdout",
     "output_type": "stream",
     "text": [
      "<class 'pandas.core.frame.DataFrame'>\n",
      "Index: 62467843 entries, 1889-01-01 12:00:00 to 2014-12-31 12:00:00\n",
      "Data columns (total 6 columns):\n",
      " #   Column         Dtype  \n",
      "---  ------         -----  \n",
      " 0   lat_min        float64\n",
      " 1   lat_max        float64\n",
      " 2   lon_min        float64\n",
      " 3   lon_max        float64\n",
      " 4   rain (mm/day)  float64\n",
      " 5   model          object \n",
      "dtypes: float64(5), object(1)\n",
      "memory usage: 3.3+ GB\n"
     ]
    }
   ],
   "source": [
    "df.info()"
   ]
  },
  {
   "cell_type": "code",
   "execution_count": 11,
   "id": "0e4b3fbb-e4a8-4384-901e-3a15ef2a3ac9",
   "metadata": {},
   "outputs": [
    {
     "name": "stdout",
     "output_type": "stream",
     "text": [
      "Memory usage with float64: 3498.20 MB\n",
      "Memory usage with float32: 2248.84 MB\n"
     ]
    }
   ],
   "source": [
    "print(f\"Memory usage with float64: {df.memory_usage().sum() / 1e6:.2f} MB\")\n",
    "print(f\"Memory usage with float32: {df2.memory_usage().sum() / 1e6:.2f} MB\")"
   ]
  },
  {
   "attachments": {},
   "cell_type": "markdown",
   "id": "9e2cc613-b80c-4b57-b20c-d0da7816a34b",
   "metadata": {},
   "source": [
    "As we can see from the output above, using `float32` has a lower memory usage."
   ]
  },
  {
   "cell_type": "markdown",
   "id": "97bbc3bd-bc9a-403e-af34-6f1484ac1f7c",
   "metadata": {},
   "source": [
    "The following we tried loading the data and doing EDA in the normal way that we usually do."
   ]
  },
  {
   "cell_type": "code",
   "execution_count": 12,
   "id": "b408447d-51c9-4e14-9afa-67c6aa84e14b",
   "metadata": {},
   "outputs": [
    {
     "name": "stdout",
     "output_type": "stream",
     "text": [
      "MPI-ESM1-2-HR       5154240\n",
      "CMCC-CM2-HR4        3541230\n",
      "CMCC-ESM2           3541230\n",
      "CMCC-CM2-SR5        3541230\n",
      "NorESM2-MM          3541230\n",
      "TaiESM1             3541230\n",
      "SAM0-UNICON         3541153\n",
      "GFDL-ESM4           3219300\n",
      "FGOALS-f3-L         3219300\n",
      "GFDL-CM4            3219300\n",
      "MRI-ESM2-0          3037320\n",
      "EC-Earth3-Veg-LR    3037320\n",
      "BCC-CSM2-MR         3035340\n",
      "MIROC6              2070900\n",
      "ACCESS-CM2          1932840\n",
      "ACCESS-ESM1-5       1610700\n",
      "INM-CM4-8           1609650\n",
      "INM-CM5-0           1609650\n",
      "FGOALS-g3           1287720\n",
      "KIOST-ESM           1287720\n",
      "AWI-ESM-1-1-LR       966420\n",
      "MPI-ESM1-2-LR        966420\n",
      "NESM3                966420\n",
      "MPI-ESM-1-2-HAM      966420\n",
      "NorESM2-LM           919800\n",
      "BCC-ESM1             551880\n",
      "CanESM5              551880\n",
      "Name: model, dtype: int64\n",
      "CPU times: user 32.2 s, sys: 4.22 s, total: 36.4 s\n",
      "Wall time: 37.6 s\n"
     ]
    }
   ],
   "source": [
    "%%time\n",
    "df = pd.read_csv(\"figsharerainfall/combined_data.csv\", index_col = 'time')\n",
    "print(df[\"model\"].value_counts())"
   ]
  },
  {
   "cell_type": "markdown",
   "id": "2ed65667-08d2-4e97-853b-874e00ed92c9",
   "metadata": {},
   "source": [
    "This time we tried loading the data in chuncks and counting them in chunks"
   ]
  },
  {
   "cell_type": "code",
   "execution_count": 13,
   "id": "0a640dba-31bd-4752-959e-8dde02795085",
   "metadata": {},
   "outputs": [
    {
     "name": "stdout",
     "output_type": "stream",
     "text": [
      "MPI-ESM1-2-HR       5154240\n",
      "TaiESM1             3541230\n",
      "NorESM2-MM          3541230\n",
      "CMCC-CM2-HR4        3541230\n",
      "CMCC-CM2-SR5        3541230\n",
      "CMCC-ESM2           3541230\n",
      "SAM0-UNICON         3541153\n",
      "FGOALS-f3-L         3219300\n",
      "GFDL-CM4            3219300\n",
      "GFDL-ESM4           3219300\n",
      "EC-Earth3-Veg-LR    3037320\n",
      "MRI-ESM2-0          3037320\n",
      "BCC-CSM2-MR         3035340\n",
      "MIROC6              2070900\n",
      "ACCESS-CM2          1932840\n",
      "ACCESS-ESM1-5       1610700\n",
      "INM-CM5-0           1609650\n",
      "INM-CM4-8           1609650\n",
      "KIOST-ESM           1287720\n",
      "FGOALS-g3           1287720\n",
      "MPI-ESM1-2-LR        966420\n",
      "NESM3                966420\n",
      "AWI-ESM-1-1-LR       966420\n",
      "MPI-ESM-1-2-HAM      966420\n",
      "NorESM2-LM           919800\n",
      "BCC-ESM1             551880\n",
      "CanESM5              551880\n",
      "dtype: int64\n",
      "CPU times: user 17.6 s, sys: 1.68 s, total: 19.3 s\n",
      "Wall time: 19.4 s\n"
     ]
    }
   ],
   "source": [
    "%%time\n",
    "counts = pd.Series(dtype=int)\n",
    "for chunk in  pd.read_csv(\"figsharerainfall/combined_data.csv\",\n",
    "                          chunksize=10_000_000, usecols=['model']):\n",
    "    counts = counts.add(chunk[\"model\"].value_counts(), fill_value=0)\n",
    "print(counts.astype(int).sort_values(ascending = False))"
   ]
  },
  {
   "cell_type": "markdown",
   "id": "b1a374da-e5b1-4fa9-9ba1-a0f0df671b03",
   "metadata": {},
   "source": [
    "As we can see from the comparison above, doing EDA only with the columns we need and loading it in chunks have reduced the time required to complete EDA."
   ]
  },
  {
   "cell_type": "markdown",
   "id": "dea6085e-d5a7-40fe-8d5f-57b18174551d",
   "metadata": {},
   "source": [
    "Compare the time for `value_counts` on team member's local computers. See the following table for results."
   ]
  },
  {
   "attachments": {},
   "cell_type": "markdown",
   "id": "05d5a162-217c-4c0f-9685-5cfdccfc5114",
   "metadata": {},
   "source": [
    "| Team Member | Operating System | RAM | Processor | Is SSD | Time taken |\n",
    "|:-----------:|:----------------:|:---:|:---------:|:------:|:----------:|\n",
    "| Lennon|  MacOS Ventura V13.2.1 |  16GB  | Apple M1 Pro  | Yes | 19s|\n",
    "| Ken            |  Ubuntu 18.04|4GB + 8GB swap| Intel N4040 @ 1.10GHz|Yes| 1m 30s |\n",
    "| Ty             |  Windows 11  |32GB | Intel 11th Gen i7  | Yes  |53s |\n",
    "| Peng           | MacOS Ventura V13.2.1 | 16GB | Apple M2 | Yes | 16s  |"
   ]
  },
  {
   "attachments": {},
   "cell_type": "markdown",
   "id": "e30ece33-257f-41d6-9399-042a6d071dd9",
   "metadata": {},
   "source": [
    "Similar with the results of combining data, the both Apple machines are once again the faster than Ty's machine and Ken's machine is the slowest possibly due to a weaker processor and swap ram used."
   ]
  },
  {
   "attachments": {},
   "cell_type": "markdown",
   "id": "9836f4d0-cee6-4242-b507-7c706f5192bb",
   "metadata": {},
   "source": [
    "## Step 4 Perform a simple EDA in R\n",
    "\n",
    "To understand how Python and R can work together using Arrow we will load data in Python to an Arrow dataset then make it available to R for the EDA using rpy2_arrow. We chose to use the arrow based data transfer method between Python & R because it is the most efficient memory/storage solution for exchanging data between Python and R. Although exporting a snapshot of data to parquet format can be advantageous for modularity of analyses, this is a simple and inelegant method to solving the problem of sharing data between processes."
   ]
  },
  {
   "cell_type": "code",
   "execution_count": 1,
   "id": "893cb087",
   "metadata": {},
   "outputs": [],
   "source": [
    "import os\n",
    "import pyarrow.dataset as ds\n",
    "import pyarrow as pa\n",
    "import pyarrow \n",
    "from pyarrow import csv\n",
    "import rpy2\n",
    "\n",
    "os.environ['R_HOME'] = '/opt/miniconda3/envs/525_2023/lib/R'\n",
    "\n",
    "# to use R cll magic\n",
    "%load_ext rpy2.ipython\n",
    "\n",
    "# keep this below load_ext command, bug makes it break if it is above, SOF issue: https://github.com/rpy2/rpy2/issues/874\n",
    "import rpy2_arrow.pyarrow_rarrow as pyra"
   ]
  },
  {
   "cell_type": "code",
   "execution_count": 10,
   "id": "3f257951-42e4-44bd-afb9-42c91297350e",
   "metadata": {},
   "outputs": [
    {
     "name": "stdout",
     "output_type": "stream",
     "text": [
      "CPU times: user 22.6 s, sys: 1.7 s, total: 24.3 s\n",
      "Wall time: 12.4 s\n"
     ]
    }
   ],
   "source": [
    "%%time\n",
    "filepathcsv = \"figsharerainfall/combined_data.csv\"\n",
    "filepathparquet = \"figsharerainfall/combined_data.parquet\"\n",
    "df = ds.dataset(filepathcsv, format=\"csv\")\n",
    "result = df.scanner(columns=[\"time\", \"lat_min\", \"lat_max\", \"lon_min\",\"lon_max\",\"rain (mm/day)\",\"model\"])\n",
    "ds.write_dataset(result,filepathparquet,format = \"parquet\")"
   ]
  },
  {
   "cell_type": "code",
   "execution_count": 11,
   "id": "2b6783b3",
   "metadata": {},
   "outputs": [
    {
     "name": "stdout",
     "output_type": "stream",
     "text": [
      "CPU times: user 3.01 s, sys: 1 s, total: 4.02 s\n",
      "Wall time: 1.1 s\n"
     ]
    }
   ],
   "source": [
    "%%time\n",
    "parquet_path = os.path.join(\"figsharerainfall\", \"combined_data.parquet\") \n",
    "\n",
    "dataset = ds.dataset(parquet_path, format=\"parquet\")\n",
    "# Converting the `pyarrow dataset` to a `pyarrow table`\n",
    "table = dataset.to_table()\n",
    "# Converting a `pyarrow table` to a `rarrow table`\n",
    "r_table = pyra.converter.py2rpy(table)"
   ]
  },
  {
   "cell_type": "markdown",
   "id": "7d1528eb",
   "metadata": {},
   "source": [
    "Check what the head and tail of our data looks like."
   ]
  },
  {
   "cell_type": "code",
   "execution_count": 19,
   "id": "7a003b8d-d4ad-4f00-b470-c8fea71bfceb",
   "metadata": {},
   "outputs": [
    {
     "name": "stdout",
     "output_type": "stream",
     "text": [
      "[1] \"Head: \"\n",
      "# A tibble: 5 × 7\n",
      "  time                lat_min lat_max lon_min lon_max `rain (mm/day)` model     \n",
      "  <dttm>                <dbl>   <dbl>   <dbl>   <dbl>           <dbl> <chr>     \n",
      "1 1889-01-01 04:00:00   -35.4   -33.6    142.    143.        4.24e-13 MPI-ESM-1…\n",
      "2 1889-01-02 04:00:00   -35.4   -33.6    142.    143.        4.22e-13 MPI-ESM-1…\n",
      "3 1889-01-03 04:00:00   -35.4   -33.6    142.    143.        4.50e-13 MPI-ESM-1…\n",
      "4 1889-01-04 04:00:00   -35.4   -33.6    142.    143.        4.25e-13 MPI-ESM-1…\n",
      "5 1889-01-05 04:00:00   -35.4   -33.6    142.    143.        4.27e-13 MPI-ESM-1…\n",
      "[1] \"Tail: \"\n",
      "# A tibble: 5 × 7\n",
      "  time                lat_min lat_max lon_min lon_max `rain (mm/day)` model     \n",
      "  <dttm>                <dbl>   <dbl>   <dbl>   <dbl>           <dbl> <chr>     \n",
      "1 2014-12-27 04:00:00   -30.2   -29.2    153.    154.            6.69 SAM0-UNIC…\n",
      "2 2014-12-28 04:00:00   -30.2   -29.2    153.    154.            7.86 SAM0-UNIC…\n",
      "3 2014-12-29 04:00:00   -30.2   -29.2    153.    154.           10.0  SAM0-UNIC…\n",
      "4 2014-12-30 04:00:00   -30.2   -29.2    153.    154.            8.54 SAM0-UNIC…\n",
      "5 2014-12-31 04:00:00   -30.2   -29.2    153.    154.           68.1  SAM0-UNIC…\n",
      "Time difference of 0.0363481 secs\n",
      "CPU times: user 36.4 ms, sys: 10.7 ms, total: 47.1 ms\n",
      "Wall time: 44.2 ms\n"
     ]
    }
   ],
   "source": [
    "%%time\n",
    "%%R -i r_table\n",
    "start_time <- Sys.time()\n",
    "suppressMessages({\n",
    "  library(dplyr)\n",
    "  library(arrow)\n",
    "})\n",
    "h <- head(r_table, 5) |>\n",
    "    collect()\n",
    "t <- tail(r_table, 5) |>\n",
    "    collect()\n",
    "print(\"Head: \")\n",
    "print(h)\n",
    "print(\"Tail: \")\n",
    "print(t)\n",
    "end_time <- Sys.time()\n",
    "print(end_time - start_time)"
   ]
  },
  {
   "cell_type": "markdown",
   "id": "c37c88e9",
   "metadata": {},
   "source": [
    "What is the average/min/max rain fall for each model across the whole dataset?"
   ]
  },
  {
   "cell_type": "code",
   "execution_count": 21,
   "id": "53f6bab8",
   "metadata": {},
   "outputs": [
    {
     "name": "stdout",
     "output_type": "stream",
     "text": [
      "# A tibble: 27 × 4\n",
      "   model         mean_rain  min_rain max_rain\n",
      "   <chr>             <dbl>     <dbl>    <dbl>\n",
      " 1 INM-CM4-8          2.81  0            213.\n",
      " 2 INM-CM5-0          2.67  0            184.\n",
      " 3 CMCC-CM2-SR5       2.38 -4.08e-13     203.\n",
      " 4 MIROC6             2.30  2.13e-32     227.\n",
      " 5 CMCC-CM2-HR4       2.28  0            224.\n",
      " 6 CMCC-ESM2          2.27 -7.87e-14     230.\n",
      " 7 NorESM2-MM         2.23  0            264.\n",
      " 8 NorESM2-LM         2.23  0            131.\n",
      " 9 TaiESM1            2.22 -3.81e-12     201.\n",
      "10 ACCESS-ESM1-5      2.22 -3.05e-18     202.\n",
      "# ℹ 17 more rows\n",
      "# ℹ Use `print(n = ...)` to see more rows\n",
      "Time difference of 0.301497 secs\n",
      "CPU times: user 1.81 s, sys: 23 ms, total: 1.84 s\n",
      "Wall time: 312 ms\n"
     ]
    }
   ],
   "source": [
    "%%time\n",
    "%%R -i r_table\n",
    "start_time <- Sys.time()\n",
    "\n",
    "result <- r_table |>\n",
    "    group_by(model) |>\n",
    "    summarise(\n",
    "        mean_rain = mean(`rain (mm/day)`), # need back ticks to use column names with spaces\n",
    "        min_rain = min(`rain (mm/day)`),\n",
    "        max_rain = max(`rain (mm/day)`),\n",
    "    ) |>\n",
    "    arrange(desc(mean_rain)) |>\n",
    "    collect()\n",
    "\n",
    "print(result)\n",
    "end_time <- Sys.time()\n",
    "print(end_time - start_time)"
   ]
  },
  {
   "cell_type": "markdown",
   "id": "ac58ee37",
   "metadata": {},
   "source": [
    "What's the most North/South coordinates?"
   ]
  },
  {
   "cell_type": "code",
   "execution_count": 22,
   "id": "f86343f3",
   "metadata": {},
   "outputs": [
    {
     "name": "stdout",
     "output_type": "stream",
     "text": [
      "# A tibble: 27 × 3\n",
      "   model         most_north most_south\n",
      "   <chr>              <dbl>      <dbl>\n",
      " 1 BCC-ESM1           -27.9      -36.3\n",
      " 2 CanESM5            -27.9      -36.3\n",
      " 3 KIOST-ESM          -28.1      -35.6\n",
      " 4 FGOALS-g3          -28.4      -36.5\n",
      " 5 NorESM2-LM         -28.4      -36  \n",
      " 6 INM-CM4-8          -28.5      -36  \n",
      " 7 INM-CM5-0          -28.5      -36  \n",
      " 8 ACCESS-CM2         -28.8      -36.2\n",
      " 9 MPI-ESM1-2-HR      -29.0      -36.5\n",
      "10 GFDL-CM4           -29        -36  \n",
      "# ℹ 17 more rows\n",
      "# ℹ Use `print(n = ...)` to see more rows\n",
      "CPU times: user 1.54 s, sys: 23.8 ms, total: 1.57 s\n",
      "Wall time: 285 ms\n"
     ]
    }
   ],
   "source": [
    "%%time\n",
    "%%R -i r_table\n",
    "# using summarize check the distribution of rain (mm/day) by model\n",
    "north_south_results <- r_table |>\n",
    "    group_by(model) |>\n",
    "    summarise(\n",
    "        most_north = max(lat_max),\n",
    "        most_south = min(lat_min),\n",
    "    ) |>\n",
    "    arrange(desc(most_north)) |>\n",
    "    collect()\n",
    "\n",
    "print(north_south_results)"
   ]
  }
 ],
 "metadata": {
  "kernelspec": {
   "display_name": "Python [conda env:525_2023]",
   "language": "python",
   "name": "conda-env-525_2023-py"
  },
  "language_info": {
   "codemirror_mode": {
    "name": "ipython",
    "version": 3
   },
   "file_extension": ".py",
   "mimetype": "text/x-python",
   "name": "python",
   "nbconvert_exporter": "python",
   "pygments_lexer": "ipython3",
   "version": "3.10.10"
  }
 },
 "nbformat": 4,
 "nbformat_minor": 5
}
