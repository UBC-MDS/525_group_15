{
 "cells": [
  {
   "cell_type": "markdown",
   "id": "5d529b4b-cb49-4515-9e3d-ad98de882d4f",
   "metadata": {},
   "source": [
    "# MDS DSCI 525 - Group 15 Milestone 1"
   ]
  },
  {
   "cell_type": "markdown",
   "id": "1bac66e5-bbf0-4118-b7ff-258e48bd1529",
   "metadata": {},
   "source": [
    "**Author**: Lennon Lok Lam Au-Yeung, Ke Wang, Ty Andrews, Peng Zhang"
   ]
  },
  {
   "cell_type": "markdown",
   "id": "04cae8c8-ef7f-4a5c-be2d-bbae7e21011f",
   "metadata": {},
   "source": [
    "## Step 0 Importing library"
   ]
  },
  {
   "cell_type": "code",
   "execution_count": 1,
   "id": "4da0b4f8-25a0-48e7-8e68-a625a814451f",
   "metadata": {},
   "outputs": [],
   "source": [
    "import re\n",
    "import os\n",
    "import glob\n",
    "import zipfile\n",
    "import requests\n",
    "from urllib.request import urlretrieve\n",
    "import json\n",
    "import pandas as pd"
   ]
  },
  {
   "cell_type": "markdown",
   "id": "57086d55-24af-46b8-aa3c-a789b4bdf606",
   "metadata": {},
   "source": [
    "## Step 1 Downloading the data via API"
   ]
  },
  {
   "cell_type": "markdown",
   "id": "216f19fd-62b1-4516-9499-910b4945fbfd",
   "metadata": {},
   "source": [
    "Navigate to the location of your computer where you would like to download the files to."
   ]
  },
  {
   "cell_type": "code",
   "execution_count": 2,
   "id": "fa3c94b7-6be0-4987-9b43-5d6b94cdec6f",
   "metadata": {},
   "outputs": [
    {
     "name": "stdout",
     "output_type": "stream",
     "text": [
      "/Users/pengzh/MDS/525_labs/figshareexp\n"
     ]
    }
   ],
   "source": [
    "%cd ~/MDS/525_labs/figshareexp\n",
    "## Change it to the location that you want to download your files to."
   ]
  },
  {
   "cell_type": "code",
   "execution_count": 3,
   "id": "9dc80840-a17c-43d2-93ca-c6b53d316f82",
   "metadata": {},
   "outputs": [],
   "source": [
    "# Necessary metadata\n",
    "article_id = 14096681  # this is the unique identifier of the article on figshare\n",
    "url = f\"https://api.figshare.com/v2/articles/{article_id}\"\n",
    "headers = {\"Content-Type\": \"application/json\"}\n",
    "output_directory = \"figsharerainfall/\""
   ]
  },
  {
   "cell_type": "code",
   "execution_count": 4,
   "id": "2434a8d8-028f-48b3-b322-ebc1e678eb61",
   "metadata": {},
   "outputs": [
    {
     "data": {
      "text/plain": [
       "[{'id': 26579150,\n",
       "  'name': 'daily_rainfall_2014.png',\n",
       "  'size': 58863,\n",
       "  'is_link_only': False,\n",
       "  'download_url': 'https://ndownloader.figshare.com/files/26579150',\n",
       "  'supplied_md5': 'fd32a2ffde300a31f8d63b1825d47e5e',\n",
       "  'computed_md5': 'fd32a2ffde300a31f8d63b1825d47e5e'},\n",
       " {'id': 26579171,\n",
       "  'name': 'environment.yml',\n",
       "  'size': 192,\n",
       "  'is_link_only': False,\n",
       "  'download_url': 'https://ndownloader.figshare.com/files/26579171',\n",
       "  'supplied_md5': '060b2020017eed93a1ee7dd8c65b2f34',\n",
       "  'computed_md5': '060b2020017eed93a1ee7dd8c65b2f34'},\n",
       " {'id': 26586554,\n",
       "  'name': 'README.md',\n",
       "  'size': 5422,\n",
       "  'is_link_only': False,\n",
       "  'download_url': 'https://ndownloader.figshare.com/files/26586554',\n",
       "  'supplied_md5': '61858c6cc0e6a6d6663a7e4c75bbd88c',\n",
       "  'computed_md5': '61858c6cc0e6a6d6663a7e4c75bbd88c'},\n",
       " {'id': 26766812,\n",
       "  'name': 'data.zip',\n",
       "  'size': 814041183,\n",
       "  'is_link_only': False,\n",
       "  'download_url': 'https://ndownloader.figshare.com/files/26766812',\n",
       "  'supplied_md5': 'b517383f76e77bd03755a63a8ff83ee9',\n",
       "  'computed_md5': 'b517383f76e77bd03755a63a8ff83ee9'},\n",
       " {'id': 26766815,\n",
       "  'name': 'get_data.py',\n",
       "  'size': 4113,\n",
       "  'is_link_only': False,\n",
       "  'download_url': 'https://ndownloader.figshare.com/files/26766815',\n",
       "  'supplied_md5': '7829028495fd9dec9680ea013474afa6',\n",
       "  'computed_md5': '7829028495fd9dec9680ea013474afa6'}]"
      ]
     },
     "execution_count": 4,
     "metadata": {},
     "output_type": "execute_result"
    }
   ],
   "source": [
    "response = requests.request(\"GET\", url, headers=headers)\n",
    "data = json.loads(response.text)  # this contains all the articles data\n",
    "files = data[\"files\"]             # this is just the data about the files, which is what we want\n",
    "files"
   ]
  },
  {
   "cell_type": "code",
   "execution_count": 5,
   "id": "1679afc8-1ced-41eb-861e-977223ee8109",
   "metadata": {},
   "outputs": [
    {
     "name": "stdout",
     "output_type": "stream",
     "text": [
      "CPU times: user 3.24 s, sys: 5.11 s, total: 8.35 s\n",
      "Wall time: 1min 51s\n"
     ]
    }
   ],
   "source": [
    "%%time\n",
    "files_to_dl = [\"data.zip\"] \n",
    "for file in files:\n",
    "    if file[\"name\"] in files_to_dl:\n",
    "        os.makedirs(output_directory, exist_ok=True)\n",
    "        urlretrieve(file[\"download_url\"], output_directory + file[\"name\"])"
   ]
  },
  {
   "cell_type": "code",
   "execution_count": 6,
   "id": "4e6be83e-40b0-4790-851f-f1a333816100",
   "metadata": {},
   "outputs": [
    {
     "name": "stdout",
     "output_type": "stream",
     "text": [
      "CPU times: user 7.2 s, sys: 819 ms, total: 8.02 s\n",
      "Wall time: 10.2 s\n"
     ]
    }
   ],
   "source": [
    "%%time\n",
    "with zipfile.ZipFile(os.path.join(output_directory, \"data.zip\"), 'r') as f:\n",
    "    f.extractall(output_directory)"
   ]
  },
  {
   "cell_type": "code",
   "execution_count": 7,
   "id": "b448f349-b5e4-48ae-b78e-8441e841aecb",
   "metadata": {},
   "outputs": [
    {
     "name": "stdout",
     "output_type": "stream",
     "text": [
      "total 12428672\n",
      "drwxr-xr-x  30 pengzh  staff        960 27 Mar 20:18 \u001b[1m\u001b[34m__MACOSX\u001b[m\u001b[m/\n",
      "-rw-r--r--   1 pengzh  staff  814041183 28 Mar 12:45 data.zip\n",
      "-rw-r--r--   1 pengzh  staff   95376895 28 Mar 12:45 MPI-ESM-1-2-HAM_daily_rainfall_NSW.csv\n",
      "-rw-r--r--   1 pengzh  staff   94960113 28 Mar 12:45 AWI-ESM-1-1-LR_daily_rainfall_NSW.csv\n",
      "-rw-r--r--   1 pengzh  staff   82474546 28 Mar 12:45 NorESM2-LM_daily_rainfall_NSW.csv\n",
      "-rw-r--r--   1 pengzh  staff  127613760 28 Mar 12:45 ACCESS-CM2_daily_rainfall_NSW.csv\n",
      "-rw-r--r--   1 pengzh  staff  232118894 28 Mar 12:45 FGOALS-f3-L_daily_rainfall_NSW.csv\n",
      "-rw-r--r--   1 pengzh  staff  330360682 28 Mar 12:45 CMCC-CM2-HR4_daily_rainfall_NSW.csv\n",
      "-rw-r--r--   1 pengzh  staff  254009247 28 Mar 12:45 MRI-ESM2-0_daily_rainfall_NSW.csv\n",
      "-rw-r--r--   1 pengzh  staff  235661418 28 Mar 12:45 GFDL-CM4_daily_rainfall_NSW.csv\n",
      "-rw-r--r--   1 pengzh  staff  294260911 28 Mar 12:45 BCC-CSM2-MR_daily_rainfall_NSW.csv\n",
      "-rw-r--r--   1 pengzh  staff  295768615 28 Mar 12:45 EC-Earth3-Veg-LR_daily_rainfall_NSW.csv\n",
      "-rw-r--r--   1 pengzh  staff  328852379 28 Mar 12:45 CMCC-ESM2_daily_rainfall_NSW.csv\n",
      "-rw-r--r--   1 pengzh  staff   67784105 28 Mar 12:45 NESM3_daily_rainfall_NSW.csv\n",
      "-rw-r--r--   1 pengzh  staff   95640682 28 Mar 12:45 MPI-ESM1-2-LR_daily_rainfall_NSW.csv\n",
      "-rw-r--r--   1 pengzh  staff  114707410 28 Mar 12:45 ACCESS-ESM1-5_daily_rainfall_NSW.csv\n",
      "-rw-r--r--   1 pengzh  staff  116179272 28 Mar 12:45 FGOALS-g3_daily_rainfall_NSW.csv\n",
      "-rw-r--r--   1 pengzh  staff  102517965 28 Mar 12:45 INM-CM4-8_daily_rainfall_NSW.csv\n",
      "-rw-r--r--   1 pengzh  staff  515458033 28 Mar 12:45 MPI-ESM1-2-HR_daily_rainfall_NSW.csv\n",
      "-rw-r--r--   1 pengzh  staff  332813281 28 Mar 12:45 TaiESM1_daily_rainfall_NSW.csv\n",
      "-rw-r--r--   1 pengzh  staff  337555851 28 Mar 12:45 NorESM2-MM_daily_rainfall_NSW.csv\n",
      "-rw-r--r--   1 pengzh  staff  328787320 28 Mar 12:45 CMCC-CM2-SR5_daily_rainfall_NSW.csv\n",
      "-rw-r--r--   1 pengzh  staff     952202 28 Mar 12:45 observed_daily_rainfall_SYD.csv\n",
      "-rw-r--r--   1 pengzh  staff   93829697 28 Mar 12:45 KIOST-ESM_daily_rainfall_NSW.csv\n",
      "-rw-r--r--   1 pengzh  staff  102692289 28 Mar 12:45 INM-CM5-0_daily_rainfall_NSW.csv\n",
      "-rw-r--r--   1 pengzh  staff  206822938 28 Mar 12:45 MIROC6_daily_rainfall_NSW.csv\n",
      "-rw-r--r--   1 pengzh  staff   55224437 28 Mar 12:45 BCC-ESM1_daily_rainfall_NSW.csv\n",
      "-rw-r--r--   1 pengzh  staff  124586961 28 Mar 12:45 GFDL-ESM4_daily_rainfall_NSW.csv\n",
      "-rw-r--r--   1 pengzh  staff   46286371 28 Mar 12:45 CanESM5_daily_rainfall_NSW.csv\n",
      "-rw-r--r--   1 pengzh  staff  333489879 28 Mar 12:45 SAM0-UNICON_daily_rainfall_NSW.csv\n"
     ]
    }
   ],
   "source": [
    "%ls -ltr figsharerainfall"
   ]
  },
  {
   "cell_type": "markdown",
   "id": "0cf71948-3829-420e-8e3b-7479db7a50be",
   "metadata": {},
   "source": [
    "## Step 2 Combining data CSVs"
   ]
  },
  {
   "cell_type": "markdown",
   "id": "fea834f3-8665-4a5a-af99-5aa031533c24",
   "metadata": {},
   "source": [
    "Combine csv files into one file. Note that `observed_daily_rainfall_SYD.csv` has been manually removed as per the milestone 1 requirement."
   ]
  },
  {
   "cell_type": "code",
   "execution_count": 8,
   "id": "611fa5f8-072e-4034-8770-02043e450394",
   "metadata": {},
   "outputs": [
    {
     "name": "stdout",
     "output_type": "stream",
     "text": [
      "CPU times: user 2min 59s, sys: 7.87 s, total: 3min 7s\n",
      "Wall time: 3min 8s\n"
     ]
    }
   ],
   "source": [
    "%%time\n",
    "# We are using a normal python way for merging the data \n",
    "# add extra column of \"model\"\n",
    "use_cols = [\"time\", \"lat_min\", \"lat_max\", \"lon_min\",\"lon_max\",\"rain (mm/day)\"]\n",
    "files = glob.glob('figsharerainfall/*.csv')\n",
    "df = pd.concat((pd.read_csv(file, index_col=0, usecols=use_cols)\n",
    "                .assign(model=re.findall(\"/([^_]*)\", file)[0])\n",
    "                for file in files)\n",
    "              )\n",
    "df.to_csv(\"figsharerainfall/combined_data.csv\")"
   ]
  },
  {
   "cell_type": "markdown",
   "id": "394093a7-5b11-411a-8f5e-d531c3d0c639",
   "metadata": {},
   "source": [
    "Compare the time for combining CSVs on team member's local computers. See the following table for results."
   ]
  },
  {
   "cell_type": "markdown",
   "id": "681ecfff-e533-45b3-b7a9-402ec4d1ad5c",
   "metadata": {},
   "source": [
    "| Team Member | Operating System | RAM | Processor | Is SSD | Time taken |\n",
    "|:-----------:|:----------------:|:---:|:---------:|:------:|:----------:|\n",
    "| Lennon Lok Lam |                  |     |           |        |            |\n",
    "| Ke             |                  |     |           |        |            |\n",
    "| Ty             |                  |     |           |        |            |\n",
    "| Peng           | MacOS Ventura V13.2.1 | 16GB | Apple M2 | Yes | 3min 8s  |"
   ]
  },
  {
   "cell_type": "markdown",
   "id": "0dba2531-7e21-48bc-9d1c-0e138ba1da3c",
   "metadata": {},
   "source": [
    "## Step 3 Load combined CSV to memory and perform a simple EDA in Python"
   ]
  },
  {
   "cell_type": "code",
   "execution_count": 11,
   "id": "6a2a58bc-28ca-429b-9869-f1c0e6be814c",
   "metadata": {},
   "outputs": [
    {
     "data": {
      "text/html": [
       "<div>\n",
       "<style scoped>\n",
       "    .dataframe tbody tr th:only-of-type {\n",
       "        vertical-align: middle;\n",
       "    }\n",
       "\n",
       "    .dataframe tbody tr th {\n",
       "        vertical-align: top;\n",
       "    }\n",
       "\n",
       "    .dataframe thead th {\n",
       "        text-align: right;\n",
       "    }\n",
       "</style>\n",
       "<table border=\"1\" class=\"dataframe\">\n",
       "  <thead>\n",
       "    <tr style=\"text-align: right;\">\n",
       "      <th></th>\n",
       "      <th>lat_min</th>\n",
       "      <th>lat_max</th>\n",
       "      <th>lon_min</th>\n",
       "      <th>lon_max</th>\n",
       "      <th>rain (mm/day)</th>\n",
       "      <th>model</th>\n",
       "    </tr>\n",
       "    <tr>\n",
       "      <th>time</th>\n",
       "      <th></th>\n",
       "      <th></th>\n",
       "      <th></th>\n",
       "      <th></th>\n",
       "      <th></th>\n",
       "      <th></th>\n",
       "    </tr>\n",
       "  </thead>\n",
       "  <tbody>\n",
       "    <tr>\n",
       "      <th>1889-01-01 12:00:00</th>\n",
       "      <td>-35.439867</td>\n",
       "      <td>-33.574619</td>\n",
       "      <td>141.5625</td>\n",
       "      <td>143.4375</td>\n",
       "      <td>4.244226e-13</td>\n",
       "      <td>MPI-ESM-1-2-HAM</td>\n",
       "    </tr>\n",
       "    <tr>\n",
       "      <th>1889-01-02 12:00:00</th>\n",
       "      <td>-35.439867</td>\n",
       "      <td>-33.574619</td>\n",
       "      <td>141.5625</td>\n",
       "      <td>143.4375</td>\n",
       "      <td>4.217326e-13</td>\n",
       "      <td>MPI-ESM-1-2-HAM</td>\n",
       "    </tr>\n",
       "    <tr>\n",
       "      <th>1889-01-03 12:00:00</th>\n",
       "      <td>-35.439867</td>\n",
       "      <td>-33.574619</td>\n",
       "      <td>141.5625</td>\n",
       "      <td>143.4375</td>\n",
       "      <td>4.498125e-13</td>\n",
       "      <td>MPI-ESM-1-2-HAM</td>\n",
       "    </tr>\n",
       "    <tr>\n",
       "      <th>1889-01-04 12:00:00</th>\n",
       "      <td>-35.439867</td>\n",
       "      <td>-33.574619</td>\n",
       "      <td>141.5625</td>\n",
       "      <td>143.4375</td>\n",
       "      <td>4.251282e-13</td>\n",
       "      <td>MPI-ESM-1-2-HAM</td>\n",
       "    </tr>\n",
       "    <tr>\n",
       "      <th>1889-01-05 12:00:00</th>\n",
       "      <td>-35.439867</td>\n",
       "      <td>-33.574619</td>\n",
       "      <td>141.5625</td>\n",
       "      <td>143.4375</td>\n",
       "      <td>4.270161e-13</td>\n",
       "      <td>MPI-ESM-1-2-HAM</td>\n",
       "    </tr>\n",
       "  </tbody>\n",
       "</table>\n",
       "</div>"
      ],
      "text/plain": [
       "                       lat_min    lat_max   lon_min   lon_max  rain (mm/day)  \\\n",
       "time                                                                           \n",
       "1889-01-01 12:00:00 -35.439867 -33.574619  141.5625  143.4375   4.244226e-13   \n",
       "1889-01-02 12:00:00 -35.439867 -33.574619  141.5625  143.4375   4.217326e-13   \n",
       "1889-01-03 12:00:00 -35.439867 -33.574619  141.5625  143.4375   4.498125e-13   \n",
       "1889-01-04 12:00:00 -35.439867 -33.574619  141.5625  143.4375   4.251282e-13   \n",
       "1889-01-05 12:00:00 -35.439867 -33.574619  141.5625  143.4375   4.270161e-13   \n",
       "\n",
       "                               model  \n",
       "time                                  \n",
       "1889-01-01 12:00:00  MPI-ESM-1-2-HAM  \n",
       "1889-01-02 12:00:00  MPI-ESM-1-2-HAM  \n",
       "1889-01-03 12:00:00  MPI-ESM-1-2-HAM  \n",
       "1889-01-04 12:00:00  MPI-ESM-1-2-HAM  \n",
       "1889-01-05 12:00:00  MPI-ESM-1-2-HAM  "
      ]
     },
     "execution_count": 11,
     "metadata": {},
     "output_type": "execute_result"
    }
   ],
   "source": [
    "df.head()"
   ]
  },
  {
   "cell_type": "code",
   "execution_count": 12,
   "id": "2675d3b5-2f74-4839-802f-14e45d7c08fc",
   "metadata": {},
  {
   "cell_type": "markdown",
   "id": "9836f4d0-cee6-4242-b507-7c706f5192bb",
   "metadata": {},
   "source": [
    "## Step 4 Perform a simple EDA in R\n",
    "\n",
    "To understand how Python and R can work together using Arrow we will load data in Python to an Arrow dataset then make it available to R for the EDA using rpy2_arrow."
   ]
  },
  {
   "cell_type": "code",
   "execution_count": null,
   "id": "893cb087",
   "metadata": {},
   "outputs": [],
   "source": [
    "import os\n",
    "import pyarrow.dataset as ds\n",
    "import pyarrow as pa\n",
    "import pyarrow \n",
    "from pyarrow import csv\n",
    "import rpy2\n",
    "\n",
    "os.environ['R_HOME'] = \"C:\\\\Users\\\\tyand\\\\miniconda3\\\\envs\\\\525_2023\\\\Lib\\\\R\"\n",
    "\n",
    "# to use R cll magic\n",
    "%load_ext rpy2.ipython\n",
    "\n",
    "# keep this below load_ext command, bug makes it break if it is above, SOF issue: https://github.com/rpy2/rpy2/issues/874\n",
    "import rpy2_arrow.pyarrow_rarrow as pyra"
   ]
  },
  {
   "cell_type": "code",
   "execution_count": null,
   "id": "5d8df0a3",
   "metadata": {},
   "outputs": [],
   "source": [
    "%%time\n",
    "parquet_path = os.path.join(\"figsharerainfall\", \"combined_data.parquet\") \n",
    "\n",
    "dataset = ds.dataset(parquet_path, format=\"parquet\")\n",
    "# Converting the `pyarrow dataset` to a `pyarrow table`\n",
    "table = dataset.to_table()\n",
    "# Converting a `pyarrow table` to a `rarrow table`\n",
    "r_table = pyra.converter.py2rpy(table)"
   ]
  },
  {
   "cell_type": "markdown",
   "id": "7d1528eb",
   "metadata": {},
   "source": [
    "Check what the head and tail of our data looks like."
   ]
  },
  {
   "cell_type": "code",
   "execution_count": null,
   "id": "7a003b8d-d4ad-4f00-b470-c8fea71bfceb",
   "metadata": {},
   "outputs": [],
   "source": [
    "%%time\n",
    "%%R -i r_table\n",
    "start_time <- Sys.time()\n",
    "suppressMessages({\n",
    "  library(dplyr)\n",
    "  library(arrow)\n",
    "})\n",
    "h <- head(r_table, 5) |>\n",
    "    collect()\n",
    "t <- tail(r_table, 5) |>\n",
    "    collect()\n",
    "print(\"Head: \")\n",
    "print(h)\n",
    "print(\"Tail: \")\n",
    "print(t)\n",
    "end_time <- Sys.time()\n",
    "print(end_time - start_time)"
   ]
  },
  {
   "cell_type": "markdown",
   "id": "c37c88e9",
   "metadata": {},
   "source": [
    "What is the average/min/max rain fall for each model across the whole dataset?"
   ]
  },
  {
   "cell_type": "code",
   "execution_count": null,
   "id": "53f6bab8",
   "metadata": {},
   "outputs": [],
   "source": [
    "%%time\n",
    "%%R -i r_table\n",
    "start_time <- Sys.time()\n",
    "suppressMessages({\n",
    "  library(dplyr)\n",
    "  library(arrow)\n",
    "})\n",
    "result <- r_table |>\n",
    "    group_by(model) |>\n",
    "    summarise(\n",
    "        mean_rain = mean(`rain (mm/day)`), # need back ticks to use column names with spaces\n",
    "        min_rain = min(`rain (mm/day)`),\n",
    "        max_rain = max(`rain (mm/day)`),\n",
    "    ) |>\n",
    "    arrange(desc(mean_rain)) |>\n",
    "    collect()\n",
    "\n",
    "print(result)\n",
    "end_time <- Sys.time()\n",
    "print(end_time - start_time)"
   ]
  },
  {
   "cell_type": "markdown",
   "id": "ac58ee37",
   "metadata": {},
   "source": [
    "What's the most North/South coordinates?"
   ]
  },
  {
   "cell_type": "code",
   "execution_count": null,
   "id": "f86343f3",
   "metadata": {},
   "outputs": [],
   "source": [
    "%%time\n",
    "%%R -i r_table\n",
    "# using summarize check the distribution of rain (mm/day) by model\n",
    "north_south_results <- r_table |>\n",
    "    group_by(model) |>\n",
    "    summarise(\n",
    "        most_north = max(lat_max),\n",
    "        most_south = min(lat_min),\n",
    "    ) |>\n",
    "    arrange(desc(most_north)) |>\n",
    "    collect()\n",
    "\n",
    "print(north_south_results)"
   ]
  }
 ],
 "metadata": {
  "kernelspec": {
   "display_name": "Python [conda env:525_2023]",
   "language": "python",
   "name": "conda-env-525_2023-py"
  },
  "language_info": {
   "codemirror_mode": {
    "name": "ipython",
    "version": 3
   },
   "file_extension": ".py",
   "mimetype": "text/x-python",
   "name": "python",
   "nbconvert_exporter": "python",
   "pygments_lexer": "ipython3",
   "version": "3.10.10"
  }
 },
 "nbformat": 4,
 "nbformat_minor": 5
}
