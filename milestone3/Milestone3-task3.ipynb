{
 "cells": [
  {
   "cell_type": "markdown",
   "metadata": {},
   "source": [
    "# Task 3"
   ]
  },
  {
   "cell_type": "markdown",
   "metadata": {},
   "source": [
    "This notebook is part of Milestone 3, Question 3. You can work on this notebook on your laptop to develop your machine learning model using all the learnings from the previous courses. At the end of this notebook, when you are ready to train the model, you will need to obtain the hyperparameters from the hyperparameter tuning job that you will run in Milestone 3 Question 4 (i.e., the notebook named `Milestone3-Task4.ipynb`).\n",
    "\n",
    "PS: To speed up the process, you can test the model without the hyperparameters first. Once other team members obtain the hyperparameters, you can retrain the model using those hyperparameters and test it again."
   ]
  },
  {
   "cell_type": "code",
   "execution_count": 1,
   "metadata": {},
   "outputs": [],
   "source": [
    "# I asked them to use their laptop so they already got all these packages from previous courses.\n",
    "# %pip install joblib scikit-learn matplotlib s3fs"
   ]
  },
  {
   "cell_type": "markdown",
   "metadata": {},
   "source": [
    "# Imports"
   ]
  },
  {
   "cell_type": "code",
   "execution_count": 71,
   "metadata": {},
   "outputs": [],
   "source": [
    "import os\n",
    "import numpy as np\n",
    "import pandas as pd\n",
    "from joblib import dump, load\n",
    "from sklearn.metrics import mean_squared_error\n",
    "from sklearn.ensemble import RandomForestRegressor\n",
    "from sklearn.model_selection import train_test_split\n",
    "import matplotlib.pyplot as plt\n",
    "import plotly.express as px\n",
    "import awswrangler as wr\n",
    "\n",
    "plt.style.use('ggplot')\n",
    "plt.rcParams.update({'font.size': 16, 'axes.labelweight': 'bold', 'figure.figsize': (8,6)})\n",
    "## add any other additional packages that you need. You are free to use any packages for vizualization."
   ]
  },
  {
   "cell_type": "markdown",
   "metadata": {},
   "source": [
    "## Part 1:"
   ]
  },
  {
   "cell_type": "markdown",
   "metadata": {},
   "source": [
    "Recall as a final goal of this project. We want to build and deploy ensemble machine learning models in the cloud, where features are outputs of different climate models and the target is the actual rainfall observation. In this milestone, you'll actually build these ensemble machine learning models in the cloud.  \n",
    "\n",
    "**Your tasks:**\n",
    "\n",
    "1. Read the data CSV from your s3 bucket. \n",
    "2. Drop rows with nans. \n",
    "3. Split the data into train (80%) and test (20%) portions with `random_state=123`. \n",
    "4. Carry out EDA of your choice on the train split. \n",
    "5. Train ensemble machine learning model using `RandomForestRegressor` and evaluate with metric of your choice (e.g., `RMSE`) by considering `Observed` as the target column. \n",
    "6. Discuss your results. Are you getting better results with ensemble models compared to the individual climate models? \n",
    "\n",
    "> Recall that individual columns in the data are predictions of different climate models. "
   ]
  },
  {
   "cell_type": "code",
   "execution_count": null,
   "metadata": {},
   "outputs": [],
   "source": [
    "from sklearn.preprocessing import StandardScaler\n",
    "from sklearn.pipeline import Pipeline\n",
    "from sklearn.compose import ColumnTransformer\n",
    "from sklearn.model_selection import train_test_split"
   ]
  },
  {
   "cell_type": "code",
   "execution_count": 3,
   "metadata": {},
   "outputs": [],
   "source": [
    "# os.environ[\"AWS_SHARED_CREDENTIALS_FILE\"] = \"/srv/keys/credentials\"\n",
    "os.environ[\"AWS_SHARED_CREDENTIALS_FILE\"] = \"%USERPROFILE%\\\\.aws\\\\credentials\"\n",
    "\n",
    "train_data_url = 's3://mds-525-group-15/output/ml_data_SYD.csv'"
   ]
  },
  {
   "cell_type": "code",
   "execution_count": 4,
   "metadata": {},
   "outputs": [],
   "source": [
    "## Remember by default it looks for credentials in home directory. \n",
    "## Make sure your updated credentials are in home directory\n",
    "## or pass credentials explicitly and pass as storage_options=aws_credentials (not a good idea)\n",
    "# aws_credentials = {\"key\": \"\",\"secret\": \"\",\"token\":\"\"}\n",
    "# replace with s3 path to your data\n",
    "df = pd.read_csv(train_data_url, index_col=0, parse_dates=True)"
   ]
  },
  {
   "cell_type": "code",
   "execution_count": 5,
   "metadata": {},
   "outputs": [],
   "source": [
    "train_df, test_df = train_test_split(df, test_size=0.2, random_state=123)"
   ]
  },
  {
   "attachments": {},
   "cell_type": "markdown",
   "metadata": {},
   "source": [
    "## EDA"
   ]
  },
  {
   "cell_type": "code",
   "execution_count": 6,
   "metadata": {},
   "outputs": [
    {
     "name": "stdout",
     "output_type": "stream",
     "text": [
      "<class 'pandas.core.frame.DataFrame'>\n",
      "DatetimeIndex: 36816 entries, 1904-07-25 to 1932-01-22\n",
      "Data columns (total 26 columns):\n",
      " #   Column            Non-Null Count  Dtype  \n",
      "---  ------            --------------  -----  \n",
      " 0   ACCESS-CM2        36816 non-null  float64\n",
      " 1   ACCESS-ESM1-5     36816 non-null  float64\n",
      " 2   AWI-ESM-1-1-LR    36816 non-null  float64\n",
      " 3   BCC-CSM2-MR       36816 non-null  float64\n",
      " 4   BCC-ESM1          36816 non-null  float64\n",
      " 5   CMCC-CM2-HR4      36816 non-null  float64\n",
      " 6   CMCC-CM2-SR5      36816 non-null  float64\n",
      " 7   CMCC-ESM2         36816 non-null  float64\n",
      " 8   CanESM5           36816 non-null  float64\n",
      " 9   EC-Earth3-Veg-LR  36816 non-null  float64\n",
      " 10  FGOALS-g3         36816 non-null  float64\n",
      " 11  GFDL-CM4          36816 non-null  float64\n",
      " 12  INM-CM4-8         36816 non-null  float64\n",
      " 13  INM-CM5-0         36816 non-null  float64\n",
      " 14  KIOST-ESM         36816 non-null  float64\n",
      " 15  MIROC6            36816 non-null  float64\n",
      " 16  MPI-ESM-1-2-HAM   36816 non-null  float64\n",
      " 17  MPI-ESM1-2-HR     36816 non-null  float64\n",
      " 18  MPI-ESM1-2-LR     36816 non-null  float64\n",
      " 19  MRI-ESM2-0        36816 non-null  float64\n",
      " 20  NESM3             36816 non-null  float64\n",
      " 21  NorESM2-LM        36816 non-null  float64\n",
      " 22  NorESM2-MM        36816 non-null  float64\n",
      " 23  SAM0-UNICON       36816 non-null  float64\n",
      " 24  TaiESM1           36816 non-null  float64\n",
      " 25  observed          36816 non-null  float64\n",
      "dtypes: float64(26)\n",
      "memory usage: 7.6 MB\n"
     ]
    }
   ],
   "source": [
    "train_df.info()"
   ]
  },
  {
   "cell_type": "code",
   "execution_count": 7,
   "metadata": {},
   "outputs": [
    {
     "data": {
      "text/html": [
       "<div>\n",
       "<style scoped>\n",
       "    .dataframe tbody tr th:only-of-type {\n",
       "        vertical-align: middle;\n",
       "    }\n",
       "\n",
       "    .dataframe tbody tr th {\n",
       "        vertical-align: top;\n",
       "    }\n",
       "\n",
       "    .dataframe thead th {\n",
       "        text-align: right;\n",
       "    }\n",
       "</style>\n",
       "<table border=\"1\" class=\"dataframe\">\n",
       "  <thead>\n",
       "    <tr style=\"text-align: right;\">\n",
       "      <th></th>\n",
       "      <th>ACCESS-CM2</th>\n",
       "      <th>ACCESS-ESM1-5</th>\n",
       "      <th>AWI-ESM-1-1-LR</th>\n",
       "      <th>BCC-CSM2-MR</th>\n",
       "      <th>BCC-ESM1</th>\n",
       "      <th>CMCC-CM2-HR4</th>\n",
       "      <th>CMCC-CM2-SR5</th>\n",
       "      <th>CMCC-ESM2</th>\n",
       "      <th>CanESM5</th>\n",
       "      <th>EC-Earth3-Veg-LR</th>\n",
       "      <th>...</th>\n",
       "      <th>MPI-ESM-1-2-HAM</th>\n",
       "      <th>MPI-ESM1-2-HR</th>\n",
       "      <th>MPI-ESM1-2-LR</th>\n",
       "      <th>MRI-ESM2-0</th>\n",
       "      <th>NESM3</th>\n",
       "      <th>NorESM2-LM</th>\n",
       "      <th>NorESM2-MM</th>\n",
       "      <th>SAM0-UNICON</th>\n",
       "      <th>TaiESM1</th>\n",
       "      <th>observed</th>\n",
       "    </tr>\n",
       "  </thead>\n",
       "  <tbody>\n",
       "    <tr>\n",
       "      <th>count</th>\n",
       "      <td>36816.000000</td>\n",
       "      <td>36816.000000</td>\n",
       "      <td>3.681600e+04</td>\n",
       "      <td>36816.000000</td>\n",
       "      <td>36816.000000</td>\n",
       "      <td>36816.000000</td>\n",
       "      <td>3.681600e+04</td>\n",
       "      <td>3.681600e+04</td>\n",
       "      <td>36816.000000</td>\n",
       "      <td>3.681600e+04</td>\n",
       "      <td>...</td>\n",
       "      <td>3.681600e+04</td>\n",
       "      <td>3.681600e+04</td>\n",
       "      <td>3.681600e+04</td>\n",
       "      <td>3.681600e+04</td>\n",
       "      <td>3.681600e+04</td>\n",
       "      <td>36816.000000</td>\n",
       "      <td>36816.000000</td>\n",
       "      <td>3.681600e+04</td>\n",
       "      <td>3.681600e+04</td>\n",
       "      <td>36816.000000</td>\n",
       "    </tr>\n",
       "    <tr>\n",
       "      <th>mean</th>\n",
       "      <td>2.435598</td>\n",
       "      <td>2.911161</td>\n",
       "      <td>3.685100e+00</td>\n",
       "      <td>2.195160</td>\n",
       "      <td>2.771609</td>\n",
       "      <td>3.116934</td>\n",
       "      <td>3.591418e+00</td>\n",
       "      <td>3.490604e+00</td>\n",
       "      <td>2.950611</td>\n",
       "      <td>2.559451e+00</td>\n",
       "      <td>...</td>\n",
       "      <td>3.175946e+00</td>\n",
       "      <td>1.328797e+00</td>\n",
       "      <td>2.048747e+00</td>\n",
       "      <td>1.536491e+00</td>\n",
       "      <td>1.752144e+00</td>\n",
       "      <td>2.451512</td>\n",
       "      <td>2.909697</td>\n",
       "      <td>3.391212e+00</td>\n",
       "      <td>3.403765e+00</td>\n",
       "      <td>2.736204</td>\n",
       "    </tr>\n",
       "    <tr>\n",
       "      <th>std</th>\n",
       "      <td>6.876014</td>\n",
       "      <td>6.951689</td>\n",
       "      <td>7.227256e+00</td>\n",
       "      <td>6.502536</td>\n",
       "      <td>6.051221</td>\n",
       "      <td>6.466975</td>\n",
       "      <td>7.392305e+00</td>\n",
       "      <td>7.076361e+00</td>\n",
       "      <td>7.074549</td>\n",
       "      <td>5.739063e+00</td>\n",
       "      <td>...</td>\n",
       "      <td>6.883672e+00</td>\n",
       "      <td>4.955151e+00</td>\n",
       "      <td>5.375858e+00</td>\n",
       "      <td>4.993425e+00</td>\n",
       "      <td>4.937174e+00</td>\n",
       "      <td>5.796878</td>\n",
       "      <td>7.173033</td>\n",
       "      <td>7.960724e+00</td>\n",
       "      <td>7.525256e+00</td>\n",
       "      <td>8.108492</td>\n",
       "    </tr>\n",
       "    <tr>\n",
       "      <th>min</th>\n",
       "      <td>0.000000</td>\n",
       "      <td>0.000000</td>\n",
       "      <td>9.161142e-14</td>\n",
       "      <td>0.000000</td>\n",
       "      <td>0.000000</td>\n",
       "      <td>0.000000</td>\n",
       "      <td>-3.479596e-18</td>\n",
       "      <td>-3.186177e-19</td>\n",
       "      <td>0.000000</td>\n",
       "      <td>-9.934637e-19</td>\n",
       "      <td>...</td>\n",
       "      <td>3.315622e-13</td>\n",
       "      <td>1.089808e-13</td>\n",
       "      <td>9.155419e-14</td>\n",
       "      <td>9.479186e-33</td>\n",
       "      <td>1.426891e-13</td>\n",
       "      <td>0.000000</td>\n",
       "      <td>0.000000</td>\n",
       "      <td>-3.604673e-17</td>\n",
       "      <td>-2.148475e-14</td>\n",
       "      <td>0.000000</td>\n",
       "    </tr>\n",
       "    <tr>\n",
       "      <th>25%</th>\n",
       "      <td>0.053584</td>\n",
       "      <td>0.021379</td>\n",
       "      <td>2.819840e-02</td>\n",
       "      <td>0.000518</td>\n",
       "      <td>0.002370</td>\n",
       "      <td>0.138181</td>\n",
       "      <td>8.941694e-02</td>\n",
       "      <td>9.016145e-02</td>\n",
       "      <td>0.022656</td>\n",
       "      <td>1.192093e-02</td>\n",
       "      <td>...</td>\n",
       "      <td>1.005828e-04</td>\n",
       "      <td>1.270362e-13</td>\n",
       "      <td>1.352331e-13</td>\n",
       "      <td>5.353678e-05</td>\n",
       "      <td>1.862711e-13</td>\n",
       "      <td>0.005547</td>\n",
       "      <td>0.010028</td>\n",
       "      <td>3.754041e-02</td>\n",
       "      <td>4.883792e-02</td>\n",
       "      <td>0.008082</td>\n",
       "    </tr>\n",
       "    <tr>\n",
       "      <th>50%</th>\n",
       "      <td>0.191574</td>\n",
       "      <td>0.494985</td>\n",
       "      <td>5.851130e-01</td>\n",
       "      <td>0.096505</td>\n",
       "      <td>0.295341</td>\n",
       "      <td>0.643671</td>\n",
       "      <td>8.435672e-01</td>\n",
       "      <td>8.216741e-01</td>\n",
       "      <td>0.348699</td>\n",
       "      <td>4.261732e-01</td>\n",
       "      <td>...</td>\n",
       "      <td>2.054757e-01</td>\n",
       "      <td>1.752656e-03</td>\n",
       "      <td>1.146820e-01</td>\n",
       "      <td>3.193842e-02</td>\n",
       "      <td>5.167065e-02</td>\n",
       "      <td>0.167970</td>\n",
       "      <td>0.256126</td>\n",
       "      <td>6.540263e-01</td>\n",
       "      <td>6.658721e-01</td>\n",
       "      <td>0.164671</td>\n",
       "    </tr>\n",
       "    <tr>\n",
       "      <th>75%</th>\n",
       "      <td>1.435693</td>\n",
       "      <td>2.398416</td>\n",
       "      <td>3.571731e+00</td>\n",
       "      <td>1.323656</td>\n",
       "      <td>2.508854</td>\n",
       "      <td>3.219543</td>\n",
       "      <td>3.724556e+00</td>\n",
       "      <td>3.630505e+00</td>\n",
       "      <td>2.615149</td>\n",
       "      <td>2.294516e+00</td>\n",
       "      <td>...</td>\n",
       "      <td>2.685723e+00</td>\n",
       "      <td>3.616506e-01</td>\n",
       "      <td>1.183620e+00</td>\n",
       "      <td>6.686751e-01</td>\n",
       "      <td>7.920023e-01</td>\n",
       "      <td>1.819091</td>\n",
       "      <td>2.502725</td>\n",
       "      <td>3.271716e+00</td>\n",
       "      <td>3.217312e+00</td>\n",
       "      <td>1.652147</td>\n",
       "    </tr>\n",
       "    <tr>\n",
       "      <th>max</th>\n",
       "      <td>149.967634</td>\n",
       "      <td>157.605713</td>\n",
       "      <td>8.946575e+01</td>\n",
       "      <td>134.465223</td>\n",
       "      <td>87.134722</td>\n",
       "      <td>124.952390</td>\n",
       "      <td>1.401478e+02</td>\n",
       "      <td>1.375916e+02</td>\n",
       "      <td>135.569753</td>\n",
       "      <td>1.342262e+02</td>\n",
       "      <td>...</td>\n",
       "      <td>9.306766e+01</td>\n",
       "      <td>1.095008e+02</td>\n",
       "      <td>8.005998e+01</td>\n",
       "      <td>1.016900e+02</td>\n",
       "      <td>8.045783e+01</td>\n",
       "      <td>103.367212</td>\n",
       "      <td>163.164524</td>\n",
       "      <td>1.549718e+02</td>\n",
       "      <td>1.673562e+02</td>\n",
       "      <td>192.933030</td>\n",
       "    </tr>\n",
       "  </tbody>\n",
       "</table>\n",
       "<p>8 rows × 26 columns</p>\n",
       "</div>"
      ],
      "text/plain": [
       "         ACCESS-CM2  ACCESS-ESM1-5  AWI-ESM-1-1-LR   BCC-CSM2-MR  \\\n",
       "count  36816.000000   36816.000000    3.681600e+04  36816.000000   \n",
       "mean       2.435598       2.911161    3.685100e+00      2.195160   \n",
       "std        6.876014       6.951689    7.227256e+00      6.502536   \n",
       "min        0.000000       0.000000    9.161142e-14      0.000000   \n",
       "25%        0.053584       0.021379    2.819840e-02      0.000518   \n",
       "50%        0.191574       0.494985    5.851130e-01      0.096505   \n",
       "75%        1.435693       2.398416    3.571731e+00      1.323656   \n",
       "max      149.967634     157.605713    8.946575e+01    134.465223   \n",
       "\n",
       "           BCC-ESM1  CMCC-CM2-HR4  CMCC-CM2-SR5     CMCC-ESM2       CanESM5  \\\n",
       "count  36816.000000  36816.000000  3.681600e+04  3.681600e+04  36816.000000   \n",
       "mean       2.771609      3.116934  3.591418e+00  3.490604e+00      2.950611   \n",
       "std        6.051221      6.466975  7.392305e+00  7.076361e+00      7.074549   \n",
       "min        0.000000      0.000000 -3.479596e-18 -3.186177e-19      0.000000   \n",
       "25%        0.002370      0.138181  8.941694e-02  9.016145e-02      0.022656   \n",
       "50%        0.295341      0.643671  8.435672e-01  8.216741e-01      0.348699   \n",
       "75%        2.508854      3.219543  3.724556e+00  3.630505e+00      2.615149   \n",
       "max       87.134722    124.952390  1.401478e+02  1.375916e+02    135.569753   \n",
       "\n",
       "       EC-Earth3-Veg-LR  ...  MPI-ESM-1-2-HAM  MPI-ESM1-2-HR  MPI-ESM1-2-LR  \\\n",
       "count      3.681600e+04  ...     3.681600e+04   3.681600e+04   3.681600e+04   \n",
       "mean       2.559451e+00  ...     3.175946e+00   1.328797e+00   2.048747e+00   \n",
       "std        5.739063e+00  ...     6.883672e+00   4.955151e+00   5.375858e+00   \n",
       "min       -9.934637e-19  ...     3.315622e-13   1.089808e-13   9.155419e-14   \n",
       "25%        1.192093e-02  ...     1.005828e-04   1.270362e-13   1.352331e-13   \n",
       "50%        4.261732e-01  ...     2.054757e-01   1.752656e-03   1.146820e-01   \n",
       "75%        2.294516e+00  ...     2.685723e+00   3.616506e-01   1.183620e+00   \n",
       "max        1.342262e+02  ...     9.306766e+01   1.095008e+02   8.005998e+01   \n",
       "\n",
       "         MRI-ESM2-0         NESM3    NorESM2-LM    NorESM2-MM   SAM0-UNICON  \\\n",
       "count  3.681600e+04  3.681600e+04  36816.000000  36816.000000  3.681600e+04   \n",
       "mean   1.536491e+00  1.752144e+00      2.451512      2.909697  3.391212e+00   \n",
       "std    4.993425e+00  4.937174e+00      5.796878      7.173033  7.960724e+00   \n",
       "min    9.479186e-33  1.426891e-13      0.000000      0.000000 -3.604673e-17   \n",
       "25%    5.353678e-05  1.862711e-13      0.005547      0.010028  3.754041e-02   \n",
       "50%    3.193842e-02  5.167065e-02      0.167970      0.256126  6.540263e-01   \n",
       "75%    6.686751e-01  7.920023e-01      1.819091      2.502725  3.271716e+00   \n",
       "max    1.016900e+02  8.045783e+01    103.367212    163.164524  1.549718e+02   \n",
       "\n",
       "            TaiESM1      observed  \n",
       "count  3.681600e+04  36816.000000  \n",
       "mean   3.403765e+00      2.736204  \n",
       "std    7.525256e+00      8.108492  \n",
       "min   -2.148475e-14      0.000000  \n",
       "25%    4.883792e-02      0.008082  \n",
       "50%    6.658721e-01      0.164671  \n",
       "75%    3.217312e+00      1.652147  \n",
       "max    1.673562e+02    192.933030  \n",
       "\n",
       "[8 rows x 26 columns]"
      ]
     },
     "execution_count": 7,
     "metadata": {},
     "output_type": "execute_result"
    }
   ],
   "source": [
    "train_df.describe()"
   ]
  },
  {
   "cell_type": "code",
   "execution_count": null,
   "metadata": {},
   "outputs": [],
   "source": [
    "# make plotly histogram with overlapped distributions of of each model\n",
    "fig = px.histogram(\n",
    "    # make dataframe tidy with melt with all columns as value_vars and column names as column named model\n",
    "    train_df.melt(var_name=\"model\", value_name=\"rainfall\").query(\"rainfall < 15\"),\n",
    "    barmode=\"overlay\",\n",
    "    x=\"rainfall\",\n",
    "    color=\"model\",\n",
    "    hover_data=\"model\",\n",
    "    title=\"Rainfall Predictions are Heavily Right Tail Skewed with Majority < 2mm\",\n",
    ")\n",
    "fig.show()"
   ]
  },
  {
   "cell_type": "code",
   "execution_count": null,
   "metadata": {},
   "outputs": [],
   "source": [
    "fig = px.violin(\n",
    "    train_df.melt(var_name=\"model\", value_name=\"rainfall\"),\n",
    "    box=True,\n",
    "    points=False,\n",
    "    color=\"model\",\n",
    "    hover_data=\"model\",\n",
    "    title=\"Rainfall Predictions are Heavily Right Tail Skewed with Majority < 2mm\",\n",
    "    labels={\"rainfall\": \"Rainfall (mm)\", \"model\": \"Model\"},\n",
    ")\n",
    "\n",
    "fig.show()"
   ]
  },
  {
   "attachments": {},
   "cell_type": "markdown",
   "metadata": {},
   "source": [
    "## Baseline Model\n",
    "\n",
    "Using mean predictions we will get a baseline RMSE."
   ]
  },
  {
   "cell_type": "code",
   "execution_count": 68,
   "metadata": {},
   "outputs": [],
   "source": [
    "# import cross validation\n",
    "from sklearn.model_selection import cross_val_score\n",
    "from sklearn.model_selection import cross_validate\n",
    "\n",
    "from sklearn.dummy import DummyRegressor\n",
    "\n",
    "X_train = train_df.drop(columns=[\"observed\"])\n",
    "y_train = train_df[\"observed\"]\n",
    "\n",
    "X_test = test_df.drop(columns=[\"observed\"])\n",
    "y_test = test_df[\"observed\"]\n",
    "\n",
    "model_results_df = pd.DataFrame()"
   ]
  },
  {
   "cell_type": "code",
   "execution_count": 53,
   "metadata": {},
   "outputs": [],
   "source": [
    "def mean_std_cross_val_scores(model, X_train, y_train, **kwargs):\n",
    "    \"\"\"\n",
    "    Returns mean and std of cross validation\n",
    "\n",
    "    Parameters\n",
    "    ----------\n",
    "    model :\n",
    "        scikit-learn model\n",
    "    X_train : numpy array or pandas DataFrame\n",
    "        X in the training data\n",
    "    y_train :\n",
    "        y in the training data\n",
    "\n",
    "    Returns\n",
    "    ----------\n",
    "        pandas Series with mean scores from cross_validation\n",
    "    \"\"\"\n",
    "\n",
    "    scores = cross_validate(model, X_train, y_train, return_train_score = True, **kwargs)\n",
    "\n",
    "    mean_scores = pd.DataFrame(scores).mean()\n",
    "    std_scores = pd.DataFrame(scores).std()\n",
    "    out_col = []\n",
    "\n",
    "    for i in range(len(mean_scores)):\n",
    "        out_col.append((f\"%0.3f (+/- %0.3f)\" % (mean_scores[i], std_scores[i])))\n",
    "\n",
    "    return pd.Series(data=out_col, index=mean_scores.index)"
   ]
  },
  {
   "cell_type": "code",
   "execution_count": 54,
   "metadata": {},
   "outputs": [
    {
     "data": {
      "text/html": [
       "<div>\n",
       "<style scoped>\n",
       "    .dataframe tbody tr th:only-of-type {\n",
       "        vertical-align: middle;\n",
       "    }\n",
       "\n",
       "    .dataframe tbody tr th {\n",
       "        vertical-align: top;\n",
       "    }\n",
       "\n",
       "    .dataframe thead th {\n",
       "        text-align: right;\n",
       "    }\n",
       "</style>\n",
       "<table border=\"1\" class=\"dataframe\">\n",
       "  <thead>\n",
       "    <tr style=\"text-align: right;\">\n",
       "      <th></th>\n",
       "      <th>dummy</th>\n",
       "    </tr>\n",
       "  </thead>\n",
       "  <tbody>\n",
       "    <tr>\n",
       "      <th>fit_time</th>\n",
       "      <td>0.006 (+/- 0.001)</td>\n",
       "    </tr>\n",
       "    <tr>\n",
       "      <th>score_time</th>\n",
       "      <td>0.000 (+/- 0.000)</td>\n",
       "    </tr>\n",
       "    <tr>\n",
       "      <th>test_score</th>\n",
       "      <td>-8.107 (+/- 0.168)</td>\n",
       "    </tr>\n",
       "    <tr>\n",
       "      <th>train_score</th>\n",
       "      <td>-8.108 (+/- 0.042)</td>\n",
       "    </tr>\n",
       "  </tbody>\n",
       "</table>\n",
       "</div>"
      ],
      "text/plain": [
       "                          dummy\n",
       "fit_time      0.006 (+/- 0.001)\n",
       "score_time    0.000 (+/- 0.000)\n",
       "test_score   -8.107 (+/- 0.168)\n",
       "train_score  -8.108 (+/- 0.042)"
      ]
     },
     "execution_count": 54,
     "metadata": {},
     "output_type": "execute_result"
    }
   ],
   "source": [
    "dummy = DummyRegressor(strategy=\"mean\")\n",
    "\n",
    "model_results_df[\"dummy\"] = mean_std_cross_val_scores(\n",
    "    dummy, X_train, y_train, cv=5, scoring=\"neg_root_mean_squared_error\"\n",
    ")\n",
    "\n",
    "model_results_df"
   ]
  },
  {
   "attachments": {},
   "cell_type": "markdown",
   "metadata": {},
   "source": [
    "## Random Forest Regressor"
   ]
  },
  {
   "cell_type": "code",
   "execution_count": 55,
   "metadata": {},
   "outputs": [],
   "source": [
    "from sklearn.ensemble import RandomForestRegressor"
   ]
  },
  {
   "cell_type": "code",
   "execution_count": 77,
   "metadata": {},
   "outputs": [
    {
     "data": {
      "text/html": [
       "<div>\n",
       "<style scoped>\n",
       "    .dataframe tbody tr th:only-of-type {\n",
       "        vertical-align: middle;\n",
       "    }\n",
       "\n",
       "    .dataframe tbody tr th {\n",
       "        vertical-align: top;\n",
       "    }\n",
       "\n",
       "    .dataframe thead th {\n",
       "        text-align: right;\n",
       "    }\n",
       "</style>\n",
       "<table border=\"1\" class=\"dataframe\">\n",
       "  <thead>\n",
       "    <tr style=\"text-align: right;\">\n",
       "      <th></th>\n",
       "      <th>random_forest</th>\n",
       "    </tr>\n",
       "  </thead>\n",
       "  <tbody>\n",
       "    <tr>\n",
       "      <th>fit_time</th>\n",
       "      <td>414.201 (+/- 102.582)</td>\n",
       "    </tr>\n",
       "    <tr>\n",
       "      <th>score_time</th>\n",
       "      <td>0.676 (+/- 0.087)</td>\n",
       "    </tr>\n",
       "    <tr>\n",
       "      <th>test_score</th>\n",
       "      <td>-8.368 (+/- 0.274)</td>\n",
       "    </tr>\n",
       "    <tr>\n",
       "      <th>train_score</th>\n",
       "      <td>-3.135 (+/- 0.051)</td>\n",
       "    </tr>\n",
       "  </tbody>\n",
       "</table>\n",
       "</div>"
      ],
      "text/plain": [
       "                     random_forest\n",
       "fit_time     414.201 (+/- 102.582)\n",
       "score_time       0.676 (+/- 0.087)\n",
       "test_score      -8.368 (+/- 0.274)\n",
       "train_score     -3.135 (+/- 0.051)"
      ]
     },
     "execution_count": 77,
     "metadata": {},
     "output_type": "execute_result"
    }
   ],
   "source": [
    "rf_model = RandomForestRegressor(random_state=123)\n",
    "\n",
    "model_results_df[\"random_forest\"] = mean_std_cross_val_scores(\n",
    "    rf_model, X_train, y_train, cv=3, scoring=\"neg_root_mean_squared_error\"\n",
    ")\n",
    "\n",
    "model_results_df"
   ]
  },
  {
   "attachments": {},
   "cell_type": "markdown",
   "metadata": {},
   "source": [
    "## Evaluation on Test Set"
   ]
  },
  {
   "cell_type": "code",
   "execution_count": 64,
   "metadata": {},
   "outputs": [
    {
     "name": "stdout",
     "output_type": "stream",
     "text": [
      "RMSE on test set: 8.508\n"
     ]
    }
   ],
   "source": [
    "rf_model.fit(X_train, y_train)\n",
    "\n",
    "# get RMSE on test set\n",
    "y_pred = rf_model.predict(test_df.drop(columns=[\"observed\"]))\n",
    "rmse = np.sqrt(mean_squared_error(test_df[\"observed\"], y_pred))\n",
    "print(f\"RMSE on test set: {rmse:.3f}\")"
   ]
  },
  {
   "cell_type": "code",
   "execution_count": 65,
   "metadata": {},
   "outputs": [
    {
     "name": "stdout",
     "output_type": "stream",
     "text": [
      "RMSE for ACCESS-CM2: 10.764\n",
      "RMSE for ACCESS-ESM1-5: 10.847\n",
      "RMSE for AWI-ESM-1-1-LR: 11.187\n",
      "RMSE for BCC-CSM2-MR: 10.796\n",
      "RMSE for BCC-ESM1: 10.432\n",
      "RMSE for CMCC-CM2-HR4: 10.565\n",
      "RMSE for CMCC-CM2-SR5: 11.285\n",
      "RMSE for CMCC-ESM2: 11.129\n",
      "RMSE for CanESM5: 10.638\n",
      "RMSE for EC-Earth3-Veg-LR: 10.299\n",
      "RMSE for FGOALS-g3: 9.565\n",
      "RMSE for GFDL-CM4: 10.401\n",
      "RMSE for INM-CM4-8: 11.691\n",
      "RMSE for INM-CM5-0: 12.060\n",
      "RMSE for KIOST-ESM: 9.410\n",
      "RMSE for MIROC6: 11.498\n",
      "RMSE for MPI-ESM-1-2-HAM: 11.043\n",
      "RMSE for MPI-ESM1-2-HR: 9.770\n",
      "RMSE for MPI-ESM1-2-LR: 10.053\n",
      "RMSE for MRI-ESM2-0: 9.844\n",
      "RMSE for NESM3: 9.694\n",
      "RMSE for NorESM2-LM: 10.331\n",
      "RMSE for NorESM2-MM: 10.660\n",
      "RMSE for SAM0-UNICON: 11.527\n",
      "RMSE for TaiESM1: 11.473\n"
     ]
    }
   ],
   "source": [
    "# comparing rf model to individual model columns excluding observed\n",
    "for m in train_df.drop(columns=[\"observed\"]).columns:\n",
    "    print(f\"RMSE for {m}: {np.sqrt(mean_squared_error(test_df['observed'], test_df[m])):.3f}\")"
   ]
  },
  {
   "cell_type": "markdown",
   "metadata": {},
   "source": [
    "## Part 2:"
   ]
  },
  {
   "cell_type": "markdown",
   "metadata": {},
   "source": [
    "### Preparation for deploying model next week"
   ]
  },
  {
   "cell_type": "markdown",
   "metadata": {},
   "source": [
    "***NOTE: Complete Question 4 (`Milestone3-task4.ipynb`) from the milestone 3 before coming here***"
   ]
  },
  {
   "cell_type": "markdown",
   "metadata": {},
   "source": [
    "We’ve found the best hyperparameter settings with MLlib (from the Question 4 from milestone3), here we then use the same hyperparameters to train a scikit-learn model. "
   ]
  },
  {
   "cell_type": "code",
   "execution_count": 66,
   "metadata": {},
   "outputs": [
    {
     "data": {
      "text/html": [
       "<style>#sk-container-id-2 {color: black;background-color: white;}#sk-container-id-2 pre{padding: 0;}#sk-container-id-2 div.sk-toggleable {background-color: white;}#sk-container-id-2 label.sk-toggleable__label {cursor: pointer;display: block;width: 100%;margin-bottom: 0;padding: 0.3em;box-sizing: border-box;text-align: center;}#sk-container-id-2 label.sk-toggleable__label-arrow:before {content: \"▸\";float: left;margin-right: 0.25em;color: #696969;}#sk-container-id-2 label.sk-toggleable__label-arrow:hover:before {color: black;}#sk-container-id-2 div.sk-estimator:hover label.sk-toggleable__label-arrow:before {color: black;}#sk-container-id-2 div.sk-toggleable__content {max-height: 0;max-width: 0;overflow: hidden;text-align: left;background-color: #f0f8ff;}#sk-container-id-2 div.sk-toggleable__content pre {margin: 0.2em;color: black;border-radius: 0.25em;background-color: #f0f8ff;}#sk-container-id-2 input.sk-toggleable__control:checked~div.sk-toggleable__content {max-height: 200px;max-width: 100%;overflow: auto;}#sk-container-id-2 input.sk-toggleable__control:checked~label.sk-toggleable__label-arrow:before {content: \"▾\";}#sk-container-id-2 div.sk-estimator input.sk-toggleable__control:checked~label.sk-toggleable__label {background-color: #d4ebff;}#sk-container-id-2 div.sk-label input.sk-toggleable__control:checked~label.sk-toggleable__label {background-color: #d4ebff;}#sk-container-id-2 input.sk-hidden--visually {border: 0;clip: rect(1px 1px 1px 1px);clip: rect(1px, 1px, 1px, 1px);height: 1px;margin: -1px;overflow: hidden;padding: 0;position: absolute;width: 1px;}#sk-container-id-2 div.sk-estimator {font-family: monospace;background-color: #f0f8ff;border: 1px dotted black;border-radius: 0.25em;box-sizing: border-box;margin-bottom: 0.5em;}#sk-container-id-2 div.sk-estimator:hover {background-color: #d4ebff;}#sk-container-id-2 div.sk-parallel-item::after {content: \"\";width: 100%;border-bottom: 1px solid gray;flex-grow: 1;}#sk-container-id-2 div.sk-label:hover label.sk-toggleable__label {background-color: #d4ebff;}#sk-container-id-2 div.sk-serial::before {content: \"\";position: absolute;border-left: 1px solid gray;box-sizing: border-box;top: 0;bottom: 0;left: 50%;z-index: 0;}#sk-container-id-2 div.sk-serial {display: flex;flex-direction: column;align-items: center;background-color: white;padding-right: 0.2em;padding-left: 0.2em;position: relative;}#sk-container-id-2 div.sk-item {position: relative;z-index: 1;}#sk-container-id-2 div.sk-parallel {display: flex;align-items: stretch;justify-content: center;background-color: white;position: relative;}#sk-container-id-2 div.sk-item::before, #sk-container-id-2 div.sk-parallel-item::before {content: \"\";position: absolute;border-left: 1px solid gray;box-sizing: border-box;top: 0;bottom: 0;left: 50%;z-index: -1;}#sk-container-id-2 div.sk-parallel-item {display: flex;flex-direction: column;z-index: 1;position: relative;background-color: white;}#sk-container-id-2 div.sk-parallel-item:first-child::after {align-self: flex-end;width: 50%;}#sk-container-id-2 div.sk-parallel-item:last-child::after {align-self: flex-start;width: 50%;}#sk-container-id-2 div.sk-parallel-item:only-child::after {width: 0;}#sk-container-id-2 div.sk-dashed-wrapped {border: 1px dashed gray;margin: 0 0.4em 0.5em 0.4em;box-sizing: border-box;padding-bottom: 0.4em;background-color: white;}#sk-container-id-2 div.sk-label label {font-family: monospace;font-weight: bold;display: inline-block;line-height: 1.2em;}#sk-container-id-2 div.sk-label-container {text-align: center;}#sk-container-id-2 div.sk-container {/* jupyter's `normalize.less` sets `[hidden] { display: none; }` but bootstrap.min.css set `[hidden] { display: none !important; }` so we also need the `!important` here to be able to override the default hidden behavior on the sphinx rendered scikit-learn.org. See: https://github.com/scikit-learn/scikit-learn/issues/21755 */display: inline-block !important;position: relative;}#sk-container-id-2 div.sk-text-repr-fallback {display: none;}</style><div id=\"sk-container-id-2\" class=\"sk-top-container\"><div class=\"sk-text-repr-fallback\"><pre>RandomForestRegressor(max_depth=5, random_state=123)</pre><b>In a Jupyter environment, please rerun this cell to show the HTML representation or trust the notebook. <br />On GitHub, the HTML representation is unable to render, please try loading this page with nbviewer.org.</b></div><div class=\"sk-container\" hidden><div class=\"sk-item\"><div class=\"sk-estimator sk-toggleable\"><input class=\"sk-toggleable__control sk-hidden--visually\" id=\"sk-estimator-id-2\" type=\"checkbox\" checked><label for=\"sk-estimator-id-2\" class=\"sk-toggleable__label sk-toggleable__label-arrow\">RandomForestRegressor</label><div class=\"sk-toggleable__content\"><pre>RandomForestRegressor(max_depth=5, random_state=123)</pre></div></div></div></div></div>"
      ],
      "text/plain": [
       "RandomForestRegressor(max_depth=5, random_state=123)"
      ]
     },
     "execution_count": 66,
     "metadata": {},
     "output_type": "execute_result"
    }
   ],
   "source": [
    "# Just replace ___ with the numbers you found from Milestone3-task4.ipynb\n",
    "model = RandomForestRegressor(n_estimators=100, max_depth=5, bootstrap=True, random_state=123)\n",
    "model.fit(X_train, y_train)"
   ]
  },
  {
   "cell_type": "code",
   "execution_count": 69,
   "metadata": {},
   "outputs": [
    {
     "name": "stdout",
     "output_type": "stream",
     "text": [
      "Train RMSE: 7.93\n",
      " Test RMSE: 8.51\n"
     ]
    }
   ],
   "source": [
    "print(f\"Train RMSE: {mean_squared_error(y_train, model.predict(X_train), squared=False):.2f}\")\n",
    "print(f\" Test RMSE: {mean_squared_error(y_test, model.predict(X_test), squared=False):.2f}\")"
   ]
  },
  {
   "cell_type": "code",
   "execution_count": 70,
   "metadata": {},
   "outputs": [
    {
     "data": {
      "text/plain": [
       "['model.joblib']"
      ]
     },
     "execution_count": 70,
     "metadata": {},
     "output_type": "execute_result"
    }
   ],
   "source": [
    "# ready to deploy\n",
    "# where this model is saved? Understand the concept of relative path.\n",
    "dump(model, \"model.joblib\")"
   ]
  },
  {
   "cell_type": "code",
   "execution_count": 75,
   "metadata": {},
   "outputs": [],
   "source": [
    "# import boto3\n",
    "# s3 = boto3.resource('s3')\n",
    "# ### your bucket details s3://mdsfinal/output/\n",
    "# s3.meta.client.upload_file('model.joblib',## your local file path\n",
    "#                            'mdsfinal', ## your s3 bucket\n",
    "#                            'output/model.joblib') ## the key within the S3 bucket, you can also think this as your file path followed by bucket name\n",
    "wr.s3.upload(local_file='model.joblib', path='s3://mds-525-group-15/output/model.joblib')"
   ]
  },
  {
   "cell_type": "markdown",
   "metadata": {},
   "source": [
    "***Upload model.joblib to s3 under output folder. You choose how you want to upload it (using CLI, SDK, or web console).*** Web console is also completely fine as it is a small file."
   ]
  }
 ],
 "metadata": {
  "kernelspec": {
   "display_name": "Python 3.10.10 ('525_2023')",
   "language": "python",
   "name": "python3"
  },
  "language_info": {
   "codemirror_mode": {
    "name": "ipython",
    "version": 3
   },
   "file_extension": ".py",
   "mimetype": "text/x-python",
   "name": "python",
   "nbconvert_exporter": "python",
   "pygments_lexer": "ipython3",
   "version": "3.10.10"
  },
  "vscode": {
   "interpreter": {
    "hash": "04169164d22e6c4be6191ef423ac86bcd59ab6849083682d987cca79592811e3"
   }
  }
 },
 "nbformat": 4,
 "nbformat_minor": 4
}
