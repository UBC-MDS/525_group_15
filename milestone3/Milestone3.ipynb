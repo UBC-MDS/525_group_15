{
 "cells": [
  {
   "cell_type": "markdown",
   "id": "2cb2f9f3",
   "metadata": {},
   "source": [
    "# DSCI 525 - Web and Cloud Computing"
   ]
  },
  {
   "cell_type": "markdown",
   "id": "00e82072",
   "metadata": {},
   "source": [
    "\n"
   ]
  },
  {
   "cell_type": "markdown",
   "id": "a99a0163",
   "metadata": {},
   "source": [
    "### 1. Setup your EMR cluster\n",
    "rubric={correctness:25}"
   ]
  },
  {
   "cell_type": "markdown",
   "id": "03b9edce",
   "metadata": {},
   "source": [
    "![cluster](https://github.com/UBC-MDS/525_group_15/raw/main/milestone3/img/emr_cluster.jpeg)"
   ]
  },
  {
   "cell_type": "markdown",
   "id": "a813bb36",
   "metadata": {},
   "source": [
    "### 2. Setup your EMR notebook.\n",
    "rubric={correctness:25}"
   ]
  },
  {
   "cell_type": "markdown",
   "id": "c5182631",
   "metadata": {},
   "source": [
    "![cluster](https://github.com/UBC-MDS/525_group_15/raw/main/milestone3/img/notebook.jpeg)"
   ]
  },
  {
   "cell_type": "markdown",
   "id": "fbce919f",
   "metadata": {},
   "source": [
    "\n"
   ]
  },
  {
   "cell_type": "markdown",
   "id": "74e211fc",
   "metadata": {},
   "source": [
    "### 3. Develop a ML model using scikit-learn.\n",
    "rubric={correctness:25}"
   ]
  },
  {
   "cell_type": "markdown",
   "id": "e07a1ad7",
   "metadata": {},
   "source": [
    "#### Please provide the path to your solved `Milestone3-Task3.ipynb` notebook here.\n",
    "\n",
    "## TODO\n",
    "\n",
    "#### Please provide here the GitHub path to your S3 bucket showing `model.joblib` file. \n",
    "\n",
    "## TODO"
   ]
  },
  {
   "cell_type": "markdown",
   "id": "4f6a45dc",
   "metadata": {},
   "source": [
    "\n"
   ]
  },
  {
   "cell_type": "markdown",
   "id": "cf39dfdb",
   "metadata": {},
   "source": [
    "### 4. Obtain best hyperparameter settings using spark's MLlib.\n",
    "rubric={correctness:20}"
   ]
  },
  {
   "cell_type": "markdown",
   "id": "4931e33f",
   "metadata": {},
   "source": [
    "[Milestone3-Task4.ipynb](https://github.com/UBC-MDS/525_group_15/blob/main/milestone3/Milestone3-task4.ipynb)"
   ]
  }
 ],
 "metadata": {
  "kernelspec": {
   "display_name": "Python 3 (ipykernel)",
   "language": "python",
   "name": "python3"
  },
  "language_info": {
   "codemirror_mode": {
    "name": "ipython",
    "version": 3
   },
   "file_extension": ".py",
   "mimetype": "text/x-python",
   "name": "python",
   "nbconvert_exporter": "python",
   "pygments_lexer": "ipython3",
   "version": "3.10.9"
  },
  "vscode": {
   "interpreter": {
    "hash": "6e9e0baa62560f8a3b402c12d339bdad33c58a25305700ec7e7682c0b6251f68"
   }
  }
 },
 "nbformat": 4,
 "nbformat_minor": 5
}
