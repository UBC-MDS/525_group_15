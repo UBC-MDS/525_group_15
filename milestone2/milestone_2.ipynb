{
 "cells": [
  {
   "cell_type": "markdown",
   "id": "114cf9c2",
   "metadata": {},
   "source": [
    "# DSCI 525 - Web and Cloud Computing"
   ]
  },
  {
   "cell_type": "markdown",
   "id": "cdcfdb0d",
   "metadata": {},
   "source": [
    "Milestone 2: Your team is planning to migrate to the cloud. AWS gave 400$ (100$ each) to your team to support this. As part of this initiative, your team needs to set up a server in the cloud, a collaborative environment for your team, and later move your data to the cloud. After that, your team can wrangle the data in preparation for machine learning.\n",
    "\n",
    "## Milestone 2 checklist  \n",
    "You will have mainly 2 tasks. Here is the checklist...\n",
    "- Task 1: To set up a collaborative environment \n",
    "    - Setup your EC2 instance with JupyterHub.\n",
    "    - Install all necessary things needed in your UNIX server (Amazon EC2 instance).\n",
    "    - Set up your S3 bucket.\n",
    "    - Move the data that you wrangled in your last milestone to S3.\n",
    "- Task 2: Wrangle the data in preparation for machine learning\n",
    "    - Get the data from S3 in your notebook and make data ready for machine learning.\n",
    "\n",
    "> Everything in this milestone is to be completed in sequential order. But if you want to divide the tasks, you can ask a team member to work on Task 2 (```4. Get the data that we wrangled in our first milestone.``` and ```6. Wrangle the data in preparation for machine learning```) locally on their laptop while the other members set up the infrastructure (EC2, S3) and TLJH in the cloud. This way, you can move quick.\n",
    "\n",
    "_***Outside of Milestone:*** I strongly recommend you spin up your own instance and experiment with the s3 bucket in doing something (there are many things that we learned and practical work from video series) to get comfortable with AWS. But we won't be looking at it for a grading purpose._"
   ]
  },
  {
   "cell_type": "markdown",
   "id": "f6849a9a",
   "metadata": {},
   "source": [
    "**Keep in mind:**\n",
    "\n",
    "- _All services you use are in region ```us-west-2```._\n",
    "\n",
    "- _Don't store anything in these servers or storage that represents your identity as a student (like your student ID number) ._\n",
    "\n",
    "- _Use only default VPC and subnet._\n",
    "    \n",
    "- _No IP addresses are visible when you provide the screenshot._\n",
    "\n",
    "- _You do proper budgeting so that you don't run out of credits._ \n",
    "\n",
    "- _We want one single notebook for grading, and it's up to your discretion on how you do it. ***So only one person in your group needs to spin up instance and a ```t2.large``` is of decent size.***_\n",
    "\n",
    "- _Please stop the instance when not in use. This can save you some bucks, but it's again up to you and how you budget your money. Maybe stop it if you or your team won't use it for the next 5 hours?_\n",
    "\n",
    "- _Your AWS lab will shut down after 4 hours (also your services). When you start it again (after it is stopped), your AWS credentials (***access key***,***secret***, and ***session token***) will change, and you want to update your credentials file with the new one._\n",
    "\n",
    "- _If you don't want your lab to shut down, click on the start lab again before 4 hours ends. This will fill up your time to 4 hours._\n",
    "\n",
    "- _Say something went wrong and you want to spin up another EC2 instance, then it will be good to terminate the previous one._\n",
    "\n",
    "- _We will be choosing the storage to be ```Delete on Termination``` ( that is the default option), which means that stored data in your instance will be lost upon termination. Make sure you save any data to S3 and download the notebooks to your laptop so that next time you have your jupyterHub in a different instance, you can upload your notebook there._\n",
    "\n",
    "- _Wherever I ask for screenshots, you can provide the screenshot location in your GitHub._\n",
    "\n",
    "***NOTE:*** Everything you want for this notebook is discussed in lecture 3 and lecture 4. So you can follow the same order of things shown in lecture 4. You can also refer to the videos linked in each section under image ![YouTube](https://cdn.emojidex.com/emoji/hdpi/YouTube.png \"YouTube\") to see a demo on how to do it. In addition, I will put a link to the lecture note section that applies to each question in this milestone so that you don't get lost."
   ]
  },
  {
   "cell_type": "markdown",
   "id": "a1884cb4",
   "metadata": {},
   "source": [
    "### 1. Setup your EC2 instance\n",
    "- Name of the instance to be `mds-your_groupnumber`. For example if my group is 14 I would name it `mds-14`.\n",
    "- AMI to be `Ubuntu server 22.04 LTS (HVM)`.\n",
    "- Instance type to be `t2.large`.\n",
    "- Architecture to be `64-bit(x86)`.\n",
    "- Storage to be `30 GB`.\n",
    "- Make sure you install TLJH in your instance, by giving instructions in `User Data`.\n",
    "\n",
    "> Check [this](https://pages.github.ubc.ca/MDS-2022-23/DSCI_525_web-cloud-comp_students/lectures/lecture4.html#setting-up-an-ec2-instance) section in lecture notes for more details on setting up EC2 instance with TLJH."
   ]
  },
  {
   "cell_type": "markdown",
   "id": "58e80c45",
   "metadata": {},
   "source": [
    "rubric={correctness:20}"
   ]
  },
  {
   "cell_type": "markdown",
   "id": "d82539b2",
   "metadata": {},
   "source": [
    "#### Please provide here the GitHub path to your screenshot for grading. Example screenshot below;\n",
    "\n",
    "<img src=\"image/1_result.png\" >"
   ]
  },
  {
   "cell_type": "markdown",
   "id": "9801b911",
   "metadata": {},
   "source": [
    "### 2. Setup the server \n",
    "\n",
    "rubric={correctness:20}\n",
    "\n",
    "2.1) Add your team members to EC2 instance.\n",
    "\n",
    "2.2) Setup a common data folder to download data, and this folder should be accessible by all users in the JupyterHub.\n",
    "    \n",
    "2.3) Install and configure AWS CLI.\n",
    "\n",
    "> Check following sections in lecture notes for more details;\n",
    "\n",
    "- [Logging into EC2s](https://pages.github.ubc.ca/MDS-2022-23/DSCI_525_web-cloud-comp_students/lectures/lecture4.html#logging-into-ec2)\n",
    "- [Setting up a common space in EC2](https://pages.github.ubc.ca/MDS-2022-23/DSCI_525_web-cloud-comp_students/lectures/lecture4.html#setting-up-a-common-space-in-ec2) \n",
    "- [AWS CLI](https://pages.github.ubc.ca/MDS-2022-23/DSCI_525_web-cloud-comp_students/lectures/lecture3.html#aws-cli)"
   ]
  },
  {
   "cell_type": "markdown",
   "id": "c732ef2d",
   "metadata": {},
   "source": [
    "#### Please provide here the GitHub path to your screenshot for grading. Example screenshot below;\n",
    "\n",
    "Make sure you mask the IP address refer [here](https://www.anysoftwaretools.com/blur-part-picture-mac/).\n",
    "\n",
    "<img src=\"image/3_result.png\" >"
   ]
  },
  {
   "cell_type": "markdown",
   "id": "539ad5a3",
   "metadata": {},
   "source": [
    "### 3. Setup your JupyterHub"
   ]
  },
  {
   "cell_type": "markdown",
   "id": "639f8283",
   "metadata": {},
   "source": [
    "rubric={correctness:20}"
   ]
  },
  {
   "cell_type": "markdown",
   "id": "2dea6704",
   "metadata": {},
   "source": [
    "#### Please provide here the GitHub path to your screenshot for grading. Example screenshot below;\n",
    "\n",
    "I want to see all the group members here in this screenshot \n",
    "\n",
    "<img src=\"image/2_result.png\" >\n",
    "\n",
    "<br></br>\n",
    "> Check [this](https://pages.github.ubc.ca/MDS-2022-23/DSCI_525_web-cloud-comp_students/lectures/lecture4.html#setup-your-jupyterhub) section in lecture notes for more details on setting up jupyterHub."
   ]
  },
  {
   "cell_type": "markdown",
   "id": "eeecde21",
   "metadata": {},
   "source": [
    "### 4. Get the data what we wrangled in our first milestone. "
   ]
  },
  {
   "cell_type": "markdown",
   "id": "2174bec3",
   "metadata": {},
   "source": [
    "You have to install the packages that are needed. Refer this TLJH [document]( https://tljh.jupyter.org/en/latest/howto/env/user-environment.html).Refer ```pip``` section.\n",
    "\n",
    "Don't forget to add option -E. This way, all packages that you install will be available to other users in your JupyterHub.\n",
    "These packages you must install and install other packages needed for your wrangling.\n",
    "\n",
    "    sudo -E pip install pandas\n",
    "    sudo -E pip install pyarrow\n",
    "    sudo -E pip install s3fs\n",
    "\n",
    "> Check [this](https://pages.github.ubc.ca/MDS-2022-23/DSCI_525_web-cloud-comp_students/lectures/lecture4.html#how-to-install-packages-in-tljh) section in lecture notes for more details on installing packages in TLJH."
   ]
  },
  {
   "cell_type": "markdown",
   "id": "66d32fbd",
   "metadata": {},
   "source": [
    "As in the last milestone, we looked at transferring the data from Python to R, and we have different solutions. To stay consistent, I uploaded the parquet file (which I combined and converted in the last milestone), which we can use moving forward. Here in this section, I am getting that file using API; (the section is prepopulated for you)\n",
    "\n",
    "Remember, from now on, we are going to run this notebook in the TLJH that is set up from previous steps. You can upload your notebook there using the upload button in jupyter. After that, you are going to run the following code to get the data downloaded to your EC2 instance and then you move to questions 5 and 6."
   ]
  },
  {
   "cell_type": "code",
   "execution_count": 1,
   "id": "ec6a16f6",
   "metadata": {
    "tags": []
   },
   "outputs": [],
   "source": [
    "import re\n",
    "import os\n",
    "import glob\n",
    "import zipfile\n",
    "import requests\n",
    "from urllib.request import urlretrieve\n",
    "import json\n",
    "import pandas as pd"
   ]
  },
  {
   "cell_type": "markdown",
   "id": "c6b16325",
   "metadata": {},
   "source": [
    "Rememeber here we gave the folder that we created in Step 2.2 as we made it available for all the users in a group."
   ]
  },
  {
   "cell_type": "code",
   "execution_count": null,
   "id": "07bd98c6",
   "metadata": {
    "tags": []
   },
   "outputs": [],
   "source": [
    "# DO NOT RUN this block\n",
    "\n",
    "# # Necessary metadata\n",
    "# article_id = 14226968  # this is the unique identifier of the article on figshare\n",
    "# url = f\"https://api.figshare.com/v2/articles/{article_id}\"\n",
    "# headers = {\"Content-Type\": \"application/json\"}\n",
    "# output_directory = \"/srv/data/\"\n",
    "# \n",
    "# response = requests.request(\"GET\", url, headers=headers)\n",
    "# data = json.loads(response.text)  # this contains all the articles data, feel free to check it out\n",
    "# files = data[\"files\"]             # this is just the data about the files, which is what we want\n",
    "# \n",
    "# files_to_dl = [\"combined_model_data_parti.parquet.zip\"]  ## Please download the partitioned \n",
    "# for file in files:\n",
    "#     if file[\"name\"] in files_to_dl:\n",
    "#         os.makedirs(output_directory, exist_ok=True)\n",
    "#         urlretrieve(file[\"download_url\"], output_directory + file[\"name\"])\n",
    "# \n",
    "# with zipfile.ZipFile(os.path.join(output_directory, \"combined_model_data_parti.parquet.zip\"), 'r') as f:\n",
    "#     f.extractall(output_directory)"
   ]
  },
  {
   "cell_type": "markdown",
   "id": "0d2f04d9",
   "metadata": {},
   "source": [
    "### 5. Setup your S3 bucket and move data"
   ]
  },
  {
   "cell_type": "markdown",
   "id": "8a9c2bbf",
   "metadata": {},
   "source": [
    "rubric={correctness:15}"
   ]
  },
  {
   "cell_type": "markdown",
   "id": "cc337efd",
   "metadata": {},
   "source": [
    "> Check [this](https://pages.github.ubc.ca/MDS-2022-23/DSCI_525_web-cloud-comp_students/lectures/lecture4.html#setting-up-s3-bucket) section in lecture notes for more details on setting up S3 bucket and ***making it public***. \n",
    "\n",
    "5.1)  Create a bucket and name should be mds-s3-groupnumber-studentname. Replace groupnumber with your \"group number\", and studentname with your \"student name\". For example, if my group is 14 and my name is \"Gittu George\", then I would name it \"mds-s3-14-gittu\". (Note: For the purpose of this milestone only one student need to create this.)\n",
    "\n",
    "5.2)  Create your first folder called \"output\".\n",
    "\n",
    "5.3) Move the \"observed_daily_rainfall_SYD.csv\" file from the Milestone1 data folder to your s3 bucket from your local computer.\n",
    "\n",
    "5.4) Moving the parquet file we downloaded(combined_model_data_parti.parquet) in step 4 to S3 using the cli what we installed in step 2.3.\n",
    "\n",
    "\n",
    "> Check [this](https://pages.github.ubc.ca/MDS-2022-23/DSCI_525_web-cloud-comp_students/lectures/lecture4.html#how-to-transfer-data-to-s3) section in lecture notes for more details on moving data to S3."
   ]
  },
  {
   "cell_type": "markdown",
   "id": "66d3e08c",
   "metadata": {},
   "source": [
    "#### Please provide here the GitHub path to your screenshot for grading. Example screenshot below;\n",
    "\n",
    "Make sure it has 3 objects and see red `public` symbol in your bucket. Refer below screenshot for reference.\n",
    "\n",
    "<img src=\"image/4_result.png\" >"
   ]
  },
  {
   "cell_type": "markdown",
   "id": "56d40246",
   "metadata": {},
   "source": [
    "### 6. Wrangle the data in preparation for machine learning"
   ]
  },
  {
   "cell_type": "markdown",
   "id": "683ca7b4",
   "metadata": {},
   "source": [
    "rubric={correctness:20}\n",
    "\n",
    "> ***IMPORTANT:*** Don't forget to deal with the credentials before you start this section. Check details in lecture notes [here](https://pages.github.ubc.ca/MDS-2022-23/DSCI_525_web-cloud-comp_students/lectures/lecture4.html#more-about-credentials)\n",
    "\n",
    "> Check [this](https://pages.github.ubc.ca/MDS-2022-23/DSCI_525_web-cloud-comp_students/lectures/lecture4.html#how-to-read-data-from-s3) section in lecture notes for more details on how to read data from S3."
   ]
  },
  {
   "cell_type": "markdown",
   "id": "c0f1fca0",
   "metadata": {},
   "source": [
    "Our data currently covers all of NSW, but say that our client wants us to create a machine learning model to predict rainfall over Sydney only. There's a bit of wrangling that needs to be done for that:\n",
    "1. We need to query our data for only the rows that contain information covering Sydney\n",
    "2. We need to wrangle our data into a format suitable for training a machine learning model. That will require pivoting, resampling, grouping, etc.\n",
    "\n",
    "To train an ML algorithm we need it to look like this:\n",
    "\n",
    "||model-1_rainfall|model-2_rainfall|model-3_rainfall|...|observed_rainfall|\n",
    "|---|---|---|---|---|---|\n",
    "|0|0.12|0.43|0.35|...|0.31|\n",
    "|1|1.22|0.91|1.68|...|1.34|\n",
    "|2|0.68|0.29|0.41|...|0.57|"
   ]
  },
  {
   "cell_type": "markdown",
   "id": "e6b4929d",
   "metadata": {},
   "source": [
    "6.1) Get the data from s3 (```combined_model_data_parti.parquet``` and ```observed_daily_rainfall_SYD.csv```)\n",
    "\n",
    "6.2) First query for Sydney data and then drop the lat and lon columns (we don't need them).\n",
    "```\n",
    "syd_lat = -33.86\n",
    "syd_lon = 151.21\n",
    "```\n",
    "Expected shape ```(1150049, 2)```.\n",
    "\n",
    "6.3) Save this processed file to s3 for later use:\n",
    "\n",
    "  Save as a csv file ```ml_data_SYD.csv``` to ```s3://mds-s3-xxx/output/```\n",
    "  expected shape ```(46020,26)``` - This includes all the models as columns and also adding additional column ```Observed``` loaded from ```observed_daily_rainfall_SYD.csv``` from s3."
   ]
  },
  {
   "cell_type": "markdown",
   "id": "a6a3c99c-d748-4948-9bbd-4f9be3cc175b",
   "metadata": {},
   "source": [
    "<br><br>"
   ]
  },
  {
   "cell_type": "markdown",
   "id": "3a27879d-75c8-4542-997f-4986671b5cc7",
   "metadata": {},
   "source": [
    "### Set constant and read files"
   ]
  },
  {
   "cell_type": "code",
   "execution_count": 2,
   "id": "04d572df",
   "metadata": {},
   "outputs": [],
   "source": [
    "os.environ[\"AWS_SHARED_CREDENTIALS_FILE\"] = \"/srv/keys/credentials\""
   ]
  },
  {
   "cell_type": "code",
   "execution_count": 3,
   "id": "bbbe6d3c",
   "metadata": {},
   "outputs": [],
   "source": [
    "models_url = 's3://mds-s3-15-lennon/combined_model_data_parti.parquet'\n",
    "observed_url = 's3://mds-s3-15-lennon/observed_daily_rainfall_SYD.csv'\n",
    "output_url = 's3://mds-s3-15-lennon/output/ml_data_SYD.csv'"
   ]
  },
  {
   "cell_type": "code",
   "execution_count": 4,
   "id": "b98047ff",
   "metadata": {},
   "outputs": [],
   "source": [
    "df_models = pd.read_parquet(models_url)\n",
    "df_observed = pd.read_csv(observed_url)"
   ]
  },
  {
   "cell_type": "code",
   "execution_count": 5,
   "id": "f531fe96-bab1-4d87-b970-abd0e124981c",
   "metadata": {
    "tags": []
   },
   "outputs": [
    {
     "data": {
      "text/html": [
       "<div>\n",
       "<style scoped>\n",
       "    .dataframe tbody tr th:only-of-type {\n",
       "        vertical-align: middle;\n",
       "    }\n",
       "\n",
       "    .dataframe tbody tr th {\n",
       "        vertical-align: top;\n",
       "    }\n",
       "\n",
       "    .dataframe thead th {\n",
       "        text-align: right;\n",
       "    }\n",
       "</style>\n",
       "<table border=\"1\" class=\"dataframe\">\n",
       "  <thead>\n",
       "    <tr style=\"text-align: right;\">\n",
       "      <th></th>\n",
       "      <th>time</th>\n",
       "      <th>lat_min</th>\n",
       "      <th>lat_max</th>\n",
       "      <th>lon_min</th>\n",
       "      <th>lon_max</th>\n",
       "      <th>rain (mm/day)</th>\n",
       "      <th>model</th>\n",
       "    </tr>\n",
       "  </thead>\n",
       "  <tbody>\n",
       "    <tr>\n",
       "      <th>0</th>\n",
       "      <td>1889-01-01 12:00:00</td>\n",
       "      <td>-36.25</td>\n",
       "      <td>-35.0</td>\n",
       "      <td>140.625</td>\n",
       "      <td>142.5</td>\n",
       "      <td>3.293256e-13</td>\n",
       "      <td>ACCESS-CM2</td>\n",
       "    </tr>\n",
       "    <tr>\n",
       "      <th>1</th>\n",
       "      <td>1889-01-02 12:00:00</td>\n",
       "      <td>-36.25</td>\n",
       "      <td>-35.0</td>\n",
       "      <td>140.625</td>\n",
       "      <td>142.5</td>\n",
       "      <td>0.000000e+00</td>\n",
       "      <td>ACCESS-CM2</td>\n",
       "    </tr>\n",
       "    <tr>\n",
       "      <th>2</th>\n",
       "      <td>1889-01-03 12:00:00</td>\n",
       "      <td>-36.25</td>\n",
       "      <td>-35.0</td>\n",
       "      <td>140.625</td>\n",
       "      <td>142.5</td>\n",
       "      <td>0.000000e+00</td>\n",
       "      <td>ACCESS-CM2</td>\n",
       "    </tr>\n",
       "    <tr>\n",
       "      <th>3</th>\n",
       "      <td>1889-01-04 12:00:00</td>\n",
       "      <td>-36.25</td>\n",
       "      <td>-35.0</td>\n",
       "      <td>140.625</td>\n",
       "      <td>142.5</td>\n",
       "      <td>0.000000e+00</td>\n",
       "      <td>ACCESS-CM2</td>\n",
       "    </tr>\n",
       "    <tr>\n",
       "      <th>4</th>\n",
       "      <td>1889-01-05 12:00:00</td>\n",
       "      <td>-36.25</td>\n",
       "      <td>-35.0</td>\n",
       "      <td>140.625</td>\n",
       "      <td>142.5</td>\n",
       "      <td>1.047658e-02</td>\n",
       "      <td>ACCESS-CM2</td>\n",
       "    </tr>\n",
       "  </tbody>\n",
       "</table>\n",
       "</div>"
      ],
      "text/plain": [
       "                 time  lat_min  lat_max  lon_min  lon_max  rain (mm/day)  \\\n",
       "0 1889-01-01 12:00:00   -36.25    -35.0  140.625    142.5   3.293256e-13   \n",
       "1 1889-01-02 12:00:00   -36.25    -35.0  140.625    142.5   0.000000e+00   \n",
       "2 1889-01-03 12:00:00   -36.25    -35.0  140.625    142.5   0.000000e+00   \n",
       "3 1889-01-04 12:00:00   -36.25    -35.0  140.625    142.5   0.000000e+00   \n",
       "4 1889-01-05 12:00:00   -36.25    -35.0  140.625    142.5   1.047658e-02   \n",
       "\n",
       "        model  \n",
       "0  ACCESS-CM2  \n",
       "1  ACCESS-CM2  \n",
       "2  ACCESS-CM2  \n",
       "3  ACCESS-CM2  \n",
       "4  ACCESS-CM2  "
      ]
     },
     "execution_count": 5,
     "metadata": {},
     "output_type": "execute_result"
    }
   ],
   "source": [
    "df_models.head()"
   ]
  },
  {
   "cell_type": "code",
   "execution_count": 6,
   "id": "aba91468-c568-4b23-b897-529adca5b942",
   "metadata": {
    "tags": []
   },
   "outputs": [
    {
     "data": {
      "text/plain": [
       "(62513863, 7)"
      ]
     },
     "execution_count": 6,
     "metadata": {},
     "output_type": "execute_result"
    }
   ],
   "source": [
    "df_models.shape"
   ]
  },
  {
   "cell_type": "markdown",
   "id": "0bccd545-526d-4406-b3e2-082908ae4eb2",
   "metadata": {},
   "source": [
    "<br><br>"
   ]
  },
  {
   "cell_type": "markdown",
   "id": "0bfbf178-fa81-49a9-8063-ba26d057896d",
   "metadata": {},
   "source": [
    "### Filter by coordinates and set index"
   ]
  },
  {
   "cell_type": "code",
   "execution_count": 7,
   "id": "77ea33ec",
   "metadata": {},
   "outputs": [
    {
     "data": {
      "text/html": [
       "<div>\n",
       "<style scoped>\n",
       "    .dataframe tbody tr th:only-of-type {\n",
       "        vertical-align: middle;\n",
       "    }\n",
       "\n",
       "    .dataframe tbody tr th {\n",
       "        vertical-align: top;\n",
       "    }\n",
       "\n",
       "    .dataframe thead th {\n",
       "        text-align: right;\n",
       "    }\n",
       "</style>\n",
       "<table border=\"1\" class=\"dataframe\">\n",
       "  <thead>\n",
       "    <tr style=\"text-align: right;\">\n",
       "      <th></th>\n",
       "      <th>time</th>\n",
       "      <th>rain (mm/day)</th>\n",
       "      <th>model</th>\n",
       "    </tr>\n",
       "  </thead>\n",
       "  <tbody>\n",
       "    <tr>\n",
       "      <th>552240</th>\n",
       "      <td>1889-01-01 12:00:00</td>\n",
       "      <td>0.040427</td>\n",
       "      <td>ACCESS-CM2</td>\n",
       "    </tr>\n",
       "    <tr>\n",
       "      <th>552241</th>\n",
       "      <td>1889-01-02 12:00:00</td>\n",
       "      <td>0.073777</td>\n",
       "      <td>ACCESS-CM2</td>\n",
       "    </tr>\n",
       "    <tr>\n",
       "      <th>552242</th>\n",
       "      <td>1889-01-03 12:00:00</td>\n",
       "      <td>0.232656</td>\n",
       "      <td>ACCESS-CM2</td>\n",
       "    </tr>\n",
       "    <tr>\n",
       "      <th>552243</th>\n",
       "      <td>1889-01-04 12:00:00</td>\n",
       "      <td>0.911319</td>\n",
       "      <td>ACCESS-CM2</td>\n",
       "    </tr>\n",
       "    <tr>\n",
       "      <th>552244</th>\n",
       "      <td>1889-01-05 12:00:00</td>\n",
       "      <td>0.698013</td>\n",
       "      <td>ACCESS-CM2</td>\n",
       "    </tr>\n",
       "  </tbody>\n",
       "</table>\n",
       "</div>"
      ],
      "text/plain": [
       "                      time  rain (mm/day)       model\n",
       "552240 1889-01-01 12:00:00       0.040427  ACCESS-CM2\n",
       "552241 1889-01-02 12:00:00       0.073777  ACCESS-CM2\n",
       "552242 1889-01-03 12:00:00       0.232656  ACCESS-CM2\n",
       "552243 1889-01-04 12:00:00       0.911319  ACCESS-CM2\n",
       "552244 1889-01-05 12:00:00       0.698013  ACCESS-CM2"
      ]
     },
     "execution_count": 7,
     "metadata": {},
     "output_type": "execute_result"
    }
   ],
   "source": [
    "syd_lat = -33.86\n",
    "syd_lon = 151.21\n",
    "\n",
    "df_models_syd = df_models.query('lat_min <= @syd_lat & lat_max >= @syd_lat & lon_min <= @syd_lon & lon_max >= @syd_lon')\n",
    "df_models_syd = df_models_syd.drop(['lat_min', 'lat_max', 'lon_min', 'lon_max'], axis=1)\n",
    "\n",
    "df_models_syd.head()"
   ]
  },
  {
   "cell_type": "code",
   "execution_count": 11,
   "id": "581da8e7",
   "metadata": {},
   "outputs": [],
   "source": [
    "df_models_syd = df_models_syd.set_index('time')"
   ]
  },
  {
   "cell_type": "code",
   "execution_count": 13,
   "id": "3fef8f32",
   "metadata": {},
   "outputs": [
    {
     "data": {
      "text/html": [
       "<div>\n",
       "<style scoped>\n",
       "    .dataframe tbody tr th:only-of-type {\n",
       "        vertical-align: middle;\n",
       "    }\n",
       "\n",
       "    .dataframe tbody tr th {\n",
       "        vertical-align: top;\n",
       "    }\n",
       "\n",
       "    .dataframe thead th {\n",
       "        text-align: right;\n",
       "    }\n",
       "</style>\n",
       "<table border=\"1\" class=\"dataframe\">\n",
       "  <thead>\n",
       "    <tr style=\"text-align: right;\">\n",
       "      <th></th>\n",
       "      <th>rain (mm/day)</th>\n",
       "      <th>model</th>\n",
       "    </tr>\n",
       "    <tr>\n",
       "      <th>time</th>\n",
       "      <th></th>\n",
       "      <th></th>\n",
       "    </tr>\n",
       "  </thead>\n",
       "  <tbody>\n",
       "    <tr>\n",
       "      <th>1889-01-01 12:00:00</th>\n",
       "      <td>0.040427</td>\n",
       "      <td>ACCESS-CM2</td>\n",
       "    </tr>\n",
       "    <tr>\n",
       "      <th>1889-01-02 12:00:00</th>\n",
       "      <td>0.073777</td>\n",
       "      <td>ACCESS-CM2</td>\n",
       "    </tr>\n",
       "    <tr>\n",
       "      <th>1889-01-03 12:00:00</th>\n",
       "      <td>0.232656</td>\n",
       "      <td>ACCESS-CM2</td>\n",
       "    </tr>\n",
       "    <tr>\n",
       "      <th>1889-01-04 12:00:00</th>\n",
       "      <td>0.911319</td>\n",
       "      <td>ACCESS-CM2</td>\n",
       "    </tr>\n",
       "    <tr>\n",
       "      <th>1889-01-05 12:00:00</th>\n",
       "      <td>0.698013</td>\n",
       "      <td>ACCESS-CM2</td>\n",
       "    </tr>\n",
       "  </tbody>\n",
       "</table>\n",
       "</div>"
      ],
      "text/plain": [
       "                     rain (mm/day)       model\n",
       "time                                          \n",
       "1889-01-01 12:00:00       0.040427  ACCESS-CM2\n",
       "1889-01-02 12:00:00       0.073777  ACCESS-CM2\n",
       "1889-01-03 12:00:00       0.232656  ACCESS-CM2\n",
       "1889-01-04 12:00:00       0.911319  ACCESS-CM2\n",
       "1889-01-05 12:00:00       0.698013  ACCESS-CM2"
      ]
     },
     "execution_count": 13,
     "metadata": {},
     "output_type": "execute_result"
    }
   ],
   "source": [
    "df_models_syd.head()"
   ]
  },
  {
   "cell_type": "markdown",
   "id": "3fcf066c-16da-41c8-923e-21a1b40ceaa8",
   "metadata": {},
   "source": [
    "<br><br>"
   ]
  },
  {
   "cell_type": "markdown",
   "id": "aea8e510-92a8-4fd2-8ebd-19e8b1778f06",
   "metadata": {},
   "source": [
    "### Pivot by Model and Resample "
   ]
  },
  {
   "cell_type": "code",
   "execution_count": 22,
   "id": "76505496-acbb-4b8c-8dd6-cc268f1e67dd",
   "metadata": {
    "tags": []
   },
   "outputs": [],
   "source": [
    "df_models_pivot = df_models_syd.pivot(columns='model', values='rain (mm/day)')"
   ]
  },
  {
   "cell_type": "code",
   "execution_count": 36,
   "id": "f26ef70f-4da3-4339-9a23-3e064664737d",
   "metadata": {
    "tags": []
   },
   "outputs": [],
   "source": [
    "df_models_daily = df_models_pivot.resample('1D').sum()"
   ]
  },
  {
   "cell_type": "code",
   "execution_count": 37,
   "id": "d5e1cac8-c290-48ec-80df-c06504377083",
   "metadata": {
    "tags": []
   },
   "outputs": [
    {
     "data": {
      "text/html": [
       "<div>\n",
       "<style scoped>\n",
       "    .dataframe tbody tr th:only-of-type {\n",
       "        vertical-align: middle;\n",
       "    }\n",
       "\n",
       "    .dataframe tbody tr th {\n",
       "        vertical-align: top;\n",
       "    }\n",
       "\n",
       "    .dataframe thead th {\n",
       "        text-align: right;\n",
       "    }\n",
       "</style>\n",
       "<table border=\"1\" class=\"dataframe\">\n",
       "  <thead>\n",
       "    <tr style=\"text-align: right;\">\n",
       "      <th>model</th>\n",
       "      <th>ACCESS-CM2</th>\n",
       "      <th>ACCESS-ESM1-5</th>\n",
       "      <th>AWI-ESM-1-1-LR</th>\n",
       "      <th>BCC-CSM2-MR</th>\n",
       "      <th>BCC-ESM1</th>\n",
       "      <th>CMCC-CM2-HR4</th>\n",
       "      <th>CMCC-CM2-SR5</th>\n",
       "      <th>CMCC-ESM2</th>\n",
       "      <th>CanESM5</th>\n",
       "      <th>EC-Earth3-Veg-LR</th>\n",
       "      <th>...</th>\n",
       "      <th>MIROC6</th>\n",
       "      <th>MPI-ESM-1-2-HAM</th>\n",
       "      <th>MPI-ESM1-2-HR</th>\n",
       "      <th>MPI-ESM1-2-LR</th>\n",
       "      <th>MRI-ESM2-0</th>\n",
       "      <th>NESM3</th>\n",
       "      <th>NorESM2-LM</th>\n",
       "      <th>NorESM2-MM</th>\n",
       "      <th>SAM0-UNICON</th>\n",
       "      <th>TaiESM1</th>\n",
       "    </tr>\n",
       "    <tr>\n",
       "      <th>time</th>\n",
       "      <th></th>\n",
       "      <th></th>\n",
       "      <th></th>\n",
       "      <th></th>\n",
       "      <th></th>\n",
       "      <th></th>\n",
       "      <th></th>\n",
       "      <th></th>\n",
       "      <th></th>\n",
       "      <th></th>\n",
       "      <th></th>\n",
       "      <th></th>\n",
       "      <th></th>\n",
       "      <th></th>\n",
       "      <th></th>\n",
       "      <th></th>\n",
       "      <th></th>\n",
       "      <th></th>\n",
       "      <th></th>\n",
       "      <th></th>\n",
       "      <th></th>\n",
       "    </tr>\n",
       "  </thead>\n",
       "  <tbody>\n",
       "    <tr>\n",
       "      <th>1889-01-01</th>\n",
       "      <td>0.040427</td>\n",
       "      <td>1.814552</td>\n",
       "      <td>35.579336</td>\n",
       "      <td>4.268112e+00</td>\n",
       "      <td>1.107466e-03</td>\n",
       "      <td>11.410537</td>\n",
       "      <td>3.322009e-08</td>\n",
       "      <td>2.668800</td>\n",
       "      <td>1.321215</td>\n",
       "      <td>1.515293</td>\n",
       "      <td>...</td>\n",
       "      <td>0.648031</td>\n",
       "      <td>4.244226e-13</td>\n",
       "      <td>1.390174e-13</td>\n",
       "      <td>6.537884e-05</td>\n",
       "      <td>3.445495e-06</td>\n",
       "      <td>1.576096e+01</td>\n",
       "      <td>4.759651e-05</td>\n",
       "      <td>2.451075</td>\n",
       "      <td>0.221324</td>\n",
       "      <td>2.257933</td>\n",
       "    </tr>\n",
       "    <tr>\n",
       "      <th>1889-01-02</th>\n",
       "      <td>0.073777</td>\n",
       "      <td>0.303965</td>\n",
       "      <td>4.596520</td>\n",
       "      <td>1.190141e+00</td>\n",
       "      <td>1.015323e-04</td>\n",
       "      <td>4.014984</td>\n",
       "      <td>1.312700e+00</td>\n",
       "      <td>0.946211</td>\n",
       "      <td>2.788724</td>\n",
       "      <td>4.771375</td>\n",
       "      <td>...</td>\n",
       "      <td>1.099883</td>\n",
       "      <td>4.409552e+00</td>\n",
       "      <td>1.222283e-01</td>\n",
       "      <td>1.049131e-13</td>\n",
       "      <td>4.791993e-09</td>\n",
       "      <td>3.675510e-01</td>\n",
       "      <td>4.350863e-01</td>\n",
       "      <td>0.477231</td>\n",
       "      <td>3.757179</td>\n",
       "      <td>2.287381</td>\n",
       "    </tr>\n",
       "    <tr>\n",
       "      <th>1889-01-03</th>\n",
       "      <td>0.232656</td>\n",
       "      <td>0.019976</td>\n",
       "      <td>5.927467</td>\n",
       "      <td>1.003845e-09</td>\n",
       "      <td>1.760345e-05</td>\n",
       "      <td>9.660565</td>\n",
       "      <td>9.103720e+00</td>\n",
       "      <td>0.431999</td>\n",
       "      <td>0.003672</td>\n",
       "      <td>4.233980</td>\n",
       "      <td>...</td>\n",
       "      <td>3.931751</td>\n",
       "      <td>2.269300e-01</td>\n",
       "      <td>3.762301e-01</td>\n",
       "      <td>9.758706e-14</td>\n",
       "      <td>6.912302e-01</td>\n",
       "      <td>1.562869e-01</td>\n",
       "      <td>9.561101e+00</td>\n",
       "      <td>0.023083</td>\n",
       "      <td>0.253357</td>\n",
       "      <td>1.199909</td>\n",
       "    </tr>\n",
       "    <tr>\n",
       "      <th>1889-01-04</th>\n",
       "      <td>0.911319</td>\n",
       "      <td>13.623777</td>\n",
       "      <td>8.029624</td>\n",
       "      <td>8.225225e-02</td>\n",
       "      <td>1.808932e-01</td>\n",
       "      <td>3.951528</td>\n",
       "      <td>1.317160e+01</td>\n",
       "      <td>0.368693</td>\n",
       "      <td>0.013578</td>\n",
       "      <td>15.252495</td>\n",
       "      <td>...</td>\n",
       "      <td>0.627365</td>\n",
       "      <td>2.344586e-02</td>\n",
       "      <td>4.214019e-01</td>\n",
       "      <td>7.060915e-03</td>\n",
       "      <td>3.835721e-02</td>\n",
       "      <td>2.472226e-07</td>\n",
       "      <td>5.301038e-01</td>\n",
       "      <td>0.002699</td>\n",
       "      <td>2.185454</td>\n",
       "      <td>2.106737</td>\n",
       "    </tr>\n",
       "    <tr>\n",
       "      <th>1889-01-05</th>\n",
       "      <td>0.698013</td>\n",
       "      <td>0.021048</td>\n",
       "      <td>2.132686</td>\n",
       "      <td>2.496841e+00</td>\n",
       "      <td>4.708019e-09</td>\n",
       "      <td>2.766362</td>\n",
       "      <td>1.822940e+01</td>\n",
       "      <td>0.339267</td>\n",
       "      <td>0.002468</td>\n",
       "      <td>11.920356</td>\n",
       "      <td>...</td>\n",
       "      <td>0.019777</td>\n",
       "      <td>4.270161e-13</td>\n",
       "      <td>1.879692e-01</td>\n",
       "      <td>4.504985e+00</td>\n",
       "      <td>3.506923e-07</td>\n",
       "      <td>1.949792e-13</td>\n",
       "      <td>1.460928e-10</td>\n",
       "      <td>0.001026</td>\n",
       "      <td>2.766507</td>\n",
       "      <td>1.763335</td>\n",
       "    </tr>\n",
       "  </tbody>\n",
       "</table>\n",
       "<p>5 rows × 25 columns</p>\n",
       "</div>"
      ],
      "text/plain": [
       "model       ACCESS-CM2  ACCESS-ESM1-5  AWI-ESM-1-1-LR   BCC-CSM2-MR  \\\n",
       "time                                                                  \n",
       "1889-01-01    0.040427       1.814552       35.579336  4.268112e+00   \n",
       "1889-01-02    0.073777       0.303965        4.596520  1.190141e+00   \n",
       "1889-01-03    0.232656       0.019976        5.927467  1.003845e-09   \n",
       "1889-01-04    0.911319      13.623777        8.029624  8.225225e-02   \n",
       "1889-01-05    0.698013       0.021048        2.132686  2.496841e+00   \n",
       "\n",
       "model           BCC-ESM1  CMCC-CM2-HR4  CMCC-CM2-SR5  CMCC-ESM2   CanESM5  \\\n",
       "time                                                                        \n",
       "1889-01-01  1.107466e-03     11.410537  3.322009e-08   2.668800  1.321215   \n",
       "1889-01-02  1.015323e-04      4.014984  1.312700e+00   0.946211  2.788724   \n",
       "1889-01-03  1.760345e-05      9.660565  9.103720e+00   0.431999  0.003672   \n",
       "1889-01-04  1.808932e-01      3.951528  1.317160e+01   0.368693  0.013578   \n",
       "1889-01-05  4.708019e-09      2.766362  1.822940e+01   0.339267  0.002468   \n",
       "\n",
       "model       EC-Earth3-Veg-LR  ...    MIROC6  MPI-ESM-1-2-HAM  MPI-ESM1-2-HR  \\\n",
       "time                          ...                                             \n",
       "1889-01-01          1.515293  ...  0.648031     4.244226e-13   1.390174e-13   \n",
       "1889-01-02          4.771375  ...  1.099883     4.409552e+00   1.222283e-01   \n",
       "1889-01-03          4.233980  ...  3.931751     2.269300e-01   3.762301e-01   \n",
       "1889-01-04         15.252495  ...  0.627365     2.344586e-02   4.214019e-01   \n",
       "1889-01-05         11.920356  ...  0.019777     4.270161e-13   1.879692e-01   \n",
       "\n",
       "model       MPI-ESM1-2-LR    MRI-ESM2-0         NESM3    NorESM2-LM  \\\n",
       "time                                                                  \n",
       "1889-01-01   6.537884e-05  3.445495e-06  1.576096e+01  4.759651e-05   \n",
       "1889-01-02   1.049131e-13  4.791993e-09  3.675510e-01  4.350863e-01   \n",
       "1889-01-03   9.758706e-14  6.912302e-01  1.562869e-01  9.561101e+00   \n",
       "1889-01-04   7.060915e-03  3.835721e-02  2.472226e-07  5.301038e-01   \n",
       "1889-01-05   4.504985e+00  3.506923e-07  1.949792e-13  1.460928e-10   \n",
       "\n",
       "model       NorESM2-MM  SAM0-UNICON   TaiESM1  \n",
       "time                                           \n",
       "1889-01-01    2.451075     0.221324  2.257933  \n",
       "1889-01-02    0.477231     3.757179  2.287381  \n",
       "1889-01-03    0.023083     0.253357  1.199909  \n",
       "1889-01-04    0.002699     2.185454  2.106737  \n",
       "1889-01-05    0.001026     2.766507  1.763335  \n",
       "\n",
       "[5 rows x 25 columns]"
      ]
     },
     "execution_count": 37,
     "metadata": {},
     "output_type": "execute_result"
    }
   ],
   "source": [
    "df_models_daily.head()"
   ]
  },
  {
   "cell_type": "code",
   "execution_count": 35,
   "id": "5bcf8150-ca16-43ca-b12a-3d99f86c62f1",
   "metadata": {
    "tags": []
   },
   "outputs": [
    {
     "data": {
      "text/plain": [
       "(46020, 25)"
      ]
     },
     "execution_count": 35,
     "metadata": {},
     "output_type": "execute_result"
    }
   ],
   "source": [
    "df_models_daily.shape"
   ]
  },
  {
   "cell_type": "markdown",
   "id": "eb78762e-266a-41c7-b963-ad78b52d23b4",
   "metadata": {},
   "source": [
    "<br><br>"
   ]
  },
  {
   "cell_type": "markdown",
   "id": "8bde1247-8e18-47f7-9788-41c96b36a442",
   "metadata": {},
   "source": [
    "### Set time index for observed data"
   ]
  },
  {
   "cell_type": "code",
   "execution_count": 18,
   "id": "266ae4df-c154-47c3-9be1-a989dcb80423",
   "metadata": {
    "tags": []
   },
   "outputs": [
    {
     "data": {
      "text/html": [
       "<div>\n",
       "<style scoped>\n",
       "    .dataframe tbody tr th:only-of-type {\n",
       "        vertical-align: middle;\n",
       "    }\n",
       "\n",
       "    .dataframe tbody tr th {\n",
       "        vertical-align: top;\n",
       "    }\n",
       "\n",
       "    .dataframe thead th {\n",
       "        text-align: right;\n",
       "    }\n",
       "</style>\n",
       "<table border=\"1\" class=\"dataframe\">\n",
       "  <thead>\n",
       "    <tr style=\"text-align: right;\">\n",
       "      <th></th>\n",
       "      <th>rain (mm/day)</th>\n",
       "    </tr>\n",
       "    <tr>\n",
       "      <th>time</th>\n",
       "      <th></th>\n",
       "    </tr>\n",
       "  </thead>\n",
       "  <tbody>\n",
       "    <tr>\n",
       "      <th>1889-01-01</th>\n",
       "      <td>0.006612</td>\n",
       "    </tr>\n",
       "    <tr>\n",
       "      <th>1889-01-02</th>\n",
       "      <td>0.090422</td>\n",
       "    </tr>\n",
       "    <tr>\n",
       "      <th>1889-01-03</th>\n",
       "      <td>1.401452</td>\n",
       "    </tr>\n",
       "    <tr>\n",
       "      <th>1889-01-04</th>\n",
       "      <td>14.869798</td>\n",
       "    </tr>\n",
       "    <tr>\n",
       "      <th>1889-01-05</th>\n",
       "      <td>0.467628</td>\n",
       "    </tr>\n",
       "  </tbody>\n",
       "</table>\n",
       "</div>"
      ],
      "text/plain": [
       "            rain (mm/day)\n",
       "time                     \n",
       "1889-01-01       0.006612\n",
       "1889-01-02       0.090422\n",
       "1889-01-03       1.401452\n",
       "1889-01-04      14.869798\n",
       "1889-01-05       0.467628"
      ]
     },
     "execution_count": 18,
     "metadata": {},
     "output_type": "execute_result"
    }
   ],
   "source": [
    "df_observed['time'] = pd.to_datetime(df_observed['time'])\n",
    "df_observed = df_observed.set_index('time')\n",
    "df_observed.head()"
   ]
  },
  {
   "cell_type": "code",
   "execution_count": 34,
   "id": "007556ce-2198-48ec-b6ce-e36cb046996d",
   "metadata": {
    "tags": []
   },
   "outputs": [
    {
     "data": {
      "text/plain": [
       "(46020, 1)"
      ]
     },
     "execution_count": 34,
     "metadata": {},
     "output_type": "execute_result"
    }
   ],
   "source": [
    "df_observed.shape"
   ]
  },
  {
   "cell_type": "markdown",
   "id": "427f0616-9122-45b4-aff0-481c965e533b",
   "metadata": {},
   "source": [
    "<br><br>"
   ]
  },
  {
   "cell_type": "markdown",
   "id": "79fbbce5",
   "metadata": {},
   "source": [
    "### Merge models and observed together "
   ]
  },
  {
   "cell_type": "code",
   "execution_count": 38,
   "id": "3f4ee1f4-ef33-4449-a96e-fb6779c9a8c1",
   "metadata": {
    "tags": []
   },
   "outputs": [],
   "source": [
    "df_merged = pd.merge(df_models_daily, df_observed, left_index=True, right_index=True)"
   ]
  },
  {
   "cell_type": "code",
   "execution_count": 42,
   "id": "f6387395-a9ad-4ce3-a991-b78af001e8f9",
   "metadata": {
    "tags": []
   },
   "outputs": [],
   "source": [
    "df_final = df_merged.rename(columns={'rain (mm/day)' : 'observed'})"
   ]
  },
  {
   "cell_type": "code",
   "execution_count": 48,
   "id": "8854cb97-0faa-4b0f-9fb3-c81a12e37c99",
   "metadata": {
    "tags": []
   },
   "outputs": [
    {
     "data": {
      "text/html": [
       "<div>\n",
       "<style scoped>\n",
       "    .dataframe tbody tr th:only-of-type {\n",
       "        vertical-align: middle;\n",
       "    }\n",
       "\n",
       "    .dataframe tbody tr th {\n",
       "        vertical-align: top;\n",
       "    }\n",
       "\n",
       "    .dataframe thead th {\n",
       "        text-align: right;\n",
       "    }\n",
       "</style>\n",
       "<table border=\"1\" class=\"dataframe\">\n",
       "  <thead>\n",
       "    <tr style=\"text-align: right;\">\n",
       "      <th></th>\n",
       "      <th>ACCESS-CM2</th>\n",
       "      <th>ACCESS-ESM1-5</th>\n",
       "      <th>AWI-ESM-1-1-LR</th>\n",
       "      <th>BCC-CSM2-MR</th>\n",
       "      <th>BCC-ESM1</th>\n",
       "      <th>CMCC-CM2-HR4</th>\n",
       "      <th>CMCC-CM2-SR5</th>\n",
       "      <th>CMCC-ESM2</th>\n",
       "      <th>CanESM5</th>\n",
       "      <th>EC-Earth3-Veg-LR</th>\n",
       "      <th>...</th>\n",
       "      <th>MPI-ESM-1-2-HAM</th>\n",
       "      <th>MPI-ESM1-2-HR</th>\n",
       "      <th>MPI-ESM1-2-LR</th>\n",
       "      <th>MRI-ESM2-0</th>\n",
       "      <th>NESM3</th>\n",
       "      <th>NorESM2-LM</th>\n",
       "      <th>NorESM2-MM</th>\n",
       "      <th>SAM0-UNICON</th>\n",
       "      <th>TaiESM1</th>\n",
       "      <th>observed</th>\n",
       "    </tr>\n",
       "    <tr>\n",
       "      <th>time</th>\n",
       "      <th></th>\n",
       "      <th></th>\n",
       "      <th></th>\n",
       "      <th></th>\n",
       "      <th></th>\n",
       "      <th></th>\n",
       "      <th></th>\n",
       "      <th></th>\n",
       "      <th></th>\n",
       "      <th></th>\n",
       "      <th></th>\n",
       "      <th></th>\n",
       "      <th></th>\n",
       "      <th></th>\n",
       "      <th></th>\n",
       "      <th></th>\n",
       "      <th></th>\n",
       "      <th></th>\n",
       "      <th></th>\n",
       "      <th></th>\n",
       "      <th></th>\n",
       "    </tr>\n",
       "  </thead>\n",
       "  <tbody>\n",
       "    <tr>\n",
       "      <th>1889-01-01</th>\n",
       "      <td>0.040427</td>\n",
       "      <td>1.814552</td>\n",
       "      <td>35.579336</td>\n",
       "      <td>4.268112e+00</td>\n",
       "      <td>1.107466e-03</td>\n",
       "      <td>11.410537</td>\n",
       "      <td>3.322009e-08</td>\n",
       "      <td>2.668800</td>\n",
       "      <td>1.321215</td>\n",
       "      <td>1.515293</td>\n",
       "      <td>...</td>\n",
       "      <td>4.244226e-13</td>\n",
       "      <td>1.390174e-13</td>\n",
       "      <td>6.537884e-05</td>\n",
       "      <td>3.445495e-06</td>\n",
       "      <td>1.576096e+01</td>\n",
       "      <td>4.759651e-05</td>\n",
       "      <td>2.451075</td>\n",
       "      <td>0.221324</td>\n",
       "      <td>2.257933</td>\n",
       "      <td>0.006612</td>\n",
       "    </tr>\n",
       "    <tr>\n",
       "      <th>1889-01-02</th>\n",
       "      <td>0.073777</td>\n",
       "      <td>0.303965</td>\n",
       "      <td>4.596520</td>\n",
       "      <td>1.190141e+00</td>\n",
       "      <td>1.015323e-04</td>\n",
       "      <td>4.014984</td>\n",
       "      <td>1.312700e+00</td>\n",
       "      <td>0.946211</td>\n",
       "      <td>2.788724</td>\n",
       "      <td>4.771375</td>\n",
       "      <td>...</td>\n",
       "      <td>4.409552e+00</td>\n",
       "      <td>1.222283e-01</td>\n",
       "      <td>1.049131e-13</td>\n",
       "      <td>4.791993e-09</td>\n",
       "      <td>3.675510e-01</td>\n",
       "      <td>4.350863e-01</td>\n",
       "      <td>0.477231</td>\n",
       "      <td>3.757179</td>\n",
       "      <td>2.287381</td>\n",
       "      <td>0.090422</td>\n",
       "    </tr>\n",
       "    <tr>\n",
       "      <th>1889-01-03</th>\n",
       "      <td>0.232656</td>\n",
       "      <td>0.019976</td>\n",
       "      <td>5.927467</td>\n",
       "      <td>1.003845e-09</td>\n",
       "      <td>1.760345e-05</td>\n",
       "      <td>9.660565</td>\n",
       "      <td>9.103720e+00</td>\n",
       "      <td>0.431999</td>\n",
       "      <td>0.003672</td>\n",
       "      <td>4.233980</td>\n",
       "      <td>...</td>\n",
       "      <td>2.269300e-01</td>\n",
       "      <td>3.762301e-01</td>\n",
       "      <td>9.758706e-14</td>\n",
       "      <td>6.912302e-01</td>\n",
       "      <td>1.562869e-01</td>\n",
       "      <td>9.561101e+00</td>\n",
       "      <td>0.023083</td>\n",
       "      <td>0.253357</td>\n",
       "      <td>1.199909</td>\n",
       "      <td>1.401452</td>\n",
       "    </tr>\n",
       "    <tr>\n",
       "      <th>1889-01-04</th>\n",
       "      <td>0.911319</td>\n",
       "      <td>13.623777</td>\n",
       "      <td>8.029624</td>\n",
       "      <td>8.225225e-02</td>\n",
       "      <td>1.808932e-01</td>\n",
       "      <td>3.951528</td>\n",
       "      <td>1.317160e+01</td>\n",
       "      <td>0.368693</td>\n",
       "      <td>0.013578</td>\n",
       "      <td>15.252495</td>\n",
       "      <td>...</td>\n",
       "      <td>2.344586e-02</td>\n",
       "      <td>4.214019e-01</td>\n",
       "      <td>7.060915e-03</td>\n",
       "      <td>3.835721e-02</td>\n",
       "      <td>2.472226e-07</td>\n",
       "      <td>5.301038e-01</td>\n",
       "      <td>0.002699</td>\n",
       "      <td>2.185454</td>\n",
       "      <td>2.106737</td>\n",
       "      <td>14.869798</td>\n",
       "    </tr>\n",
       "    <tr>\n",
       "      <th>1889-01-05</th>\n",
       "      <td>0.698013</td>\n",
       "      <td>0.021048</td>\n",
       "      <td>2.132686</td>\n",
       "      <td>2.496841e+00</td>\n",
       "      <td>4.708019e-09</td>\n",
       "      <td>2.766362</td>\n",
       "      <td>1.822940e+01</td>\n",
       "      <td>0.339267</td>\n",
       "      <td>0.002468</td>\n",
       "      <td>11.920356</td>\n",
       "      <td>...</td>\n",
       "      <td>4.270161e-13</td>\n",
       "      <td>1.879692e-01</td>\n",
       "      <td>4.504985e+00</td>\n",
       "      <td>3.506923e-07</td>\n",
       "      <td>1.949792e-13</td>\n",
       "      <td>1.460928e-10</td>\n",
       "      <td>0.001026</td>\n",
       "      <td>2.766507</td>\n",
       "      <td>1.763335</td>\n",
       "      <td>0.467628</td>\n",
       "    </tr>\n",
       "  </tbody>\n",
       "</table>\n",
       "<p>5 rows × 26 columns</p>\n",
       "</div>"
      ],
      "text/plain": [
       "            ACCESS-CM2  ACCESS-ESM1-5  AWI-ESM-1-1-LR   BCC-CSM2-MR  \\\n",
       "time                                                                  \n",
       "1889-01-01    0.040427       1.814552       35.579336  4.268112e+00   \n",
       "1889-01-02    0.073777       0.303965        4.596520  1.190141e+00   \n",
       "1889-01-03    0.232656       0.019976        5.927467  1.003845e-09   \n",
       "1889-01-04    0.911319      13.623777        8.029624  8.225225e-02   \n",
       "1889-01-05    0.698013       0.021048        2.132686  2.496841e+00   \n",
       "\n",
       "                BCC-ESM1  CMCC-CM2-HR4  CMCC-CM2-SR5  CMCC-ESM2   CanESM5  \\\n",
       "time                                                                        \n",
       "1889-01-01  1.107466e-03     11.410537  3.322009e-08   2.668800  1.321215   \n",
       "1889-01-02  1.015323e-04      4.014984  1.312700e+00   0.946211  2.788724   \n",
       "1889-01-03  1.760345e-05      9.660565  9.103720e+00   0.431999  0.003672   \n",
       "1889-01-04  1.808932e-01      3.951528  1.317160e+01   0.368693  0.013578   \n",
       "1889-01-05  4.708019e-09      2.766362  1.822940e+01   0.339267  0.002468   \n",
       "\n",
       "            EC-Earth3-Veg-LR  ...  MPI-ESM-1-2-HAM  MPI-ESM1-2-HR  \\\n",
       "time                          ...                                   \n",
       "1889-01-01          1.515293  ...     4.244226e-13   1.390174e-13   \n",
       "1889-01-02          4.771375  ...     4.409552e+00   1.222283e-01   \n",
       "1889-01-03          4.233980  ...     2.269300e-01   3.762301e-01   \n",
       "1889-01-04         15.252495  ...     2.344586e-02   4.214019e-01   \n",
       "1889-01-05         11.920356  ...     4.270161e-13   1.879692e-01   \n",
       "\n",
       "            MPI-ESM1-2-LR    MRI-ESM2-0         NESM3    NorESM2-LM  \\\n",
       "time                                                                  \n",
       "1889-01-01   6.537884e-05  3.445495e-06  1.576096e+01  4.759651e-05   \n",
       "1889-01-02   1.049131e-13  4.791993e-09  3.675510e-01  4.350863e-01   \n",
       "1889-01-03   9.758706e-14  6.912302e-01  1.562869e-01  9.561101e+00   \n",
       "1889-01-04   7.060915e-03  3.835721e-02  2.472226e-07  5.301038e-01   \n",
       "1889-01-05   4.504985e+00  3.506923e-07  1.949792e-13  1.460928e-10   \n",
       "\n",
       "            NorESM2-MM  SAM0-UNICON   TaiESM1   observed  \n",
       "time                                                      \n",
       "1889-01-01    2.451075     0.221324  2.257933   0.006612  \n",
       "1889-01-02    0.477231     3.757179  2.287381   0.090422  \n",
       "1889-01-03    0.023083     0.253357  1.199909   1.401452  \n",
       "1889-01-04    0.002699     2.185454  2.106737  14.869798  \n",
       "1889-01-05    0.001026     2.766507  1.763335   0.467628  \n",
       "\n",
       "[5 rows x 26 columns]"
      ]
     },
     "execution_count": 48,
     "metadata": {},
     "output_type": "execute_result"
    }
   ],
   "source": [
    "df_final.head()"
   ]
  },
  {
   "cell_type": "code",
   "execution_count": 50,
   "id": "1926d22c-7ba4-4b4f-98fe-9d62edb72d5b",
   "metadata": {
    "tags": []
   },
   "outputs": [
    {
     "data": {
      "text/plain": [
       "(46020, 26)"
      ]
     },
     "execution_count": 50,
     "metadata": {},
     "output_type": "execute_result"
    }
   ],
   "source": [
    "df_final.shape"
   ]
  },
  {
   "cell_type": "markdown",
   "id": "0b471a35-abb3-480e-a836-47d5172cd7a6",
   "metadata": {},
   "source": [
    "<br><br>"
   ]
  },
  {
   "cell_type": "markdown",
   "id": "a722b55d-3b97-412f-9b6c-60169c3e78a5",
   "metadata": {
    "tags": []
   },
   "source": [
    "### Write result to S3"
   ]
  },
  {
   "cell_type": "code",
   "execution_count": 52,
   "id": "ddd19ff2-dc26-4f8c-bef1-17af55893e55",
   "metadata": {
    "tags": []
   },
   "outputs": [],
   "source": [
    "df_final.to_csv(output_url)"
   ]
  },
  {
   "cell_type": "code",
   "execution_count": 53,
   "id": "144c4628-e84f-41e7-8bdd-6d227c21e53a",
   "metadata": {
    "tags": []
   },
   "outputs": [],
   "source": [
    "validate_df = pd.read_csv(output_url, index_col='time', parse_dates=['time'])"
   ]
  },
  {
   "cell_type": "code",
   "execution_count": 54,
   "id": "bec163ea-5f46-45da-8fcc-5386e39325e3",
   "metadata": {
    "tags": []
   },
   "outputs": [
    {
     "data": {
      "text/html": [
       "<div>\n",
       "<style scoped>\n",
       "    .dataframe tbody tr th:only-of-type {\n",
       "        vertical-align: middle;\n",
       "    }\n",
       "\n",
       "    .dataframe tbody tr th {\n",
       "        vertical-align: top;\n",
       "    }\n",
       "\n",
       "    .dataframe thead th {\n",
       "        text-align: right;\n",
       "    }\n",
       "</style>\n",
       "<table border=\"1\" class=\"dataframe\">\n",
       "  <thead>\n",
       "    <tr style=\"text-align: right;\">\n",
       "      <th></th>\n",
       "      <th>ACCESS-CM2</th>\n",
       "      <th>ACCESS-ESM1-5</th>\n",
       "      <th>AWI-ESM-1-1-LR</th>\n",
       "      <th>BCC-CSM2-MR</th>\n",
       "      <th>BCC-ESM1</th>\n",
       "      <th>CMCC-CM2-HR4</th>\n",
       "      <th>CMCC-CM2-SR5</th>\n",
       "      <th>CMCC-ESM2</th>\n",
       "      <th>CanESM5</th>\n",
       "      <th>EC-Earth3-Veg-LR</th>\n",
       "      <th>...</th>\n",
       "      <th>MPI-ESM-1-2-HAM</th>\n",
       "      <th>MPI-ESM1-2-HR</th>\n",
       "      <th>MPI-ESM1-2-LR</th>\n",
       "      <th>MRI-ESM2-0</th>\n",
       "      <th>NESM3</th>\n",
       "      <th>NorESM2-LM</th>\n",
       "      <th>NorESM2-MM</th>\n",
       "      <th>SAM0-UNICON</th>\n",
       "      <th>TaiESM1</th>\n",
       "      <th>observed</th>\n",
       "    </tr>\n",
       "    <tr>\n",
       "      <th>time</th>\n",
       "      <th></th>\n",
       "      <th></th>\n",
       "      <th></th>\n",
       "      <th></th>\n",
       "      <th></th>\n",
       "      <th></th>\n",
       "      <th></th>\n",
       "      <th></th>\n",
       "      <th></th>\n",
       "      <th></th>\n",
       "      <th></th>\n",
       "      <th></th>\n",
       "      <th></th>\n",
       "      <th></th>\n",
       "      <th></th>\n",
       "      <th></th>\n",
       "      <th></th>\n",
       "      <th></th>\n",
       "      <th></th>\n",
       "      <th></th>\n",
       "      <th></th>\n",
       "    </tr>\n",
       "  </thead>\n",
       "  <tbody>\n",
       "    <tr>\n",
       "      <th>1889-01-01</th>\n",
       "      <td>0.040427</td>\n",
       "      <td>1.814552</td>\n",
       "      <td>35.579336</td>\n",
       "      <td>4.268112e+00</td>\n",
       "      <td>1.107466e-03</td>\n",
       "      <td>11.410537</td>\n",
       "      <td>3.322009e-08</td>\n",
       "      <td>2.668800</td>\n",
       "      <td>1.321215</td>\n",
       "      <td>1.515293</td>\n",
       "      <td>...</td>\n",
       "      <td>4.244226e-13</td>\n",
       "      <td>1.390174e-13</td>\n",
       "      <td>6.537884e-05</td>\n",
       "      <td>3.445495e-06</td>\n",
       "      <td>1.576096e+01</td>\n",
       "      <td>4.759651e-05</td>\n",
       "      <td>2.451075</td>\n",
       "      <td>0.221324</td>\n",
       "      <td>2.257933</td>\n",
       "      <td>0.006612</td>\n",
       "    </tr>\n",
       "    <tr>\n",
       "      <th>1889-01-02</th>\n",
       "      <td>0.073777</td>\n",
       "      <td>0.303965</td>\n",
       "      <td>4.596520</td>\n",
       "      <td>1.190141e+00</td>\n",
       "      <td>1.015323e-04</td>\n",
       "      <td>4.014984</td>\n",
       "      <td>1.312700e+00</td>\n",
       "      <td>0.946211</td>\n",
       "      <td>2.788724</td>\n",
       "      <td>4.771375</td>\n",
       "      <td>...</td>\n",
       "      <td>4.409552e+00</td>\n",
       "      <td>1.222283e-01</td>\n",
       "      <td>1.049131e-13</td>\n",
       "      <td>4.791993e-09</td>\n",
       "      <td>3.675510e-01</td>\n",
       "      <td>4.350863e-01</td>\n",
       "      <td>0.477231</td>\n",
       "      <td>3.757179</td>\n",
       "      <td>2.287381</td>\n",
       "      <td>0.090422</td>\n",
       "    </tr>\n",
       "    <tr>\n",
       "      <th>1889-01-03</th>\n",
       "      <td>0.232656</td>\n",
       "      <td>0.019976</td>\n",
       "      <td>5.927467</td>\n",
       "      <td>1.003845e-09</td>\n",
       "      <td>1.760345e-05</td>\n",
       "      <td>9.660565</td>\n",
       "      <td>9.103720e+00</td>\n",
       "      <td>0.431999</td>\n",
       "      <td>0.003672</td>\n",
       "      <td>4.233980</td>\n",
       "      <td>...</td>\n",
       "      <td>2.269300e-01</td>\n",
       "      <td>3.762301e-01</td>\n",
       "      <td>9.758706e-14</td>\n",
       "      <td>6.912302e-01</td>\n",
       "      <td>1.562869e-01</td>\n",
       "      <td>9.561101e+00</td>\n",
       "      <td>0.023083</td>\n",
       "      <td>0.253357</td>\n",
       "      <td>1.199909</td>\n",
       "      <td>1.401452</td>\n",
       "    </tr>\n",
       "    <tr>\n",
       "      <th>1889-01-04</th>\n",
       "      <td>0.911319</td>\n",
       "      <td>13.623777</td>\n",
       "      <td>8.029624</td>\n",
       "      <td>8.225225e-02</td>\n",
       "      <td>1.808932e-01</td>\n",
       "      <td>3.951528</td>\n",
       "      <td>1.317160e+01</td>\n",
       "      <td>0.368693</td>\n",
       "      <td>0.013578</td>\n",
       "      <td>15.252495</td>\n",
       "      <td>...</td>\n",
       "      <td>2.344586e-02</td>\n",
       "      <td>4.214019e-01</td>\n",
       "      <td>7.060915e-03</td>\n",
       "      <td>3.835721e-02</td>\n",
       "      <td>2.472226e-07</td>\n",
       "      <td>5.301038e-01</td>\n",
       "      <td>0.002699</td>\n",
       "      <td>2.185454</td>\n",
       "      <td>2.106737</td>\n",
       "      <td>14.869798</td>\n",
       "    </tr>\n",
       "    <tr>\n",
       "      <th>1889-01-05</th>\n",
       "      <td>0.698013</td>\n",
       "      <td>0.021048</td>\n",
       "      <td>2.132686</td>\n",
       "      <td>2.496841e+00</td>\n",
       "      <td>4.708019e-09</td>\n",
       "      <td>2.766362</td>\n",
       "      <td>1.822940e+01</td>\n",
       "      <td>0.339267</td>\n",
       "      <td>0.002468</td>\n",
       "      <td>11.920356</td>\n",
       "      <td>...</td>\n",
       "      <td>4.270161e-13</td>\n",
       "      <td>1.879692e-01</td>\n",
       "      <td>4.504985e+00</td>\n",
       "      <td>3.506923e-07</td>\n",
       "      <td>1.949792e-13</td>\n",
       "      <td>1.460928e-10</td>\n",
       "      <td>0.001026</td>\n",
       "      <td>2.766507</td>\n",
       "      <td>1.763335</td>\n",
       "      <td>0.467628</td>\n",
       "    </tr>\n",
       "  </tbody>\n",
       "</table>\n",
       "<p>5 rows × 26 columns</p>\n",
       "</div>"
      ],
      "text/plain": [
       "            ACCESS-CM2  ACCESS-ESM1-5  AWI-ESM-1-1-LR   BCC-CSM2-MR  \\\n",
       "time                                                                  \n",
       "1889-01-01    0.040427       1.814552       35.579336  4.268112e+00   \n",
       "1889-01-02    0.073777       0.303965        4.596520  1.190141e+00   \n",
       "1889-01-03    0.232656       0.019976        5.927467  1.003845e-09   \n",
       "1889-01-04    0.911319      13.623777        8.029624  8.225225e-02   \n",
       "1889-01-05    0.698013       0.021048        2.132686  2.496841e+00   \n",
       "\n",
       "                BCC-ESM1  CMCC-CM2-HR4  CMCC-CM2-SR5  CMCC-ESM2   CanESM5  \\\n",
       "time                                                                        \n",
       "1889-01-01  1.107466e-03     11.410537  3.322009e-08   2.668800  1.321215   \n",
       "1889-01-02  1.015323e-04      4.014984  1.312700e+00   0.946211  2.788724   \n",
       "1889-01-03  1.760345e-05      9.660565  9.103720e+00   0.431999  0.003672   \n",
       "1889-01-04  1.808932e-01      3.951528  1.317160e+01   0.368693  0.013578   \n",
       "1889-01-05  4.708019e-09      2.766362  1.822940e+01   0.339267  0.002468   \n",
       "\n",
       "            EC-Earth3-Veg-LR  ...  MPI-ESM-1-2-HAM  MPI-ESM1-2-HR  \\\n",
       "time                          ...                                   \n",
       "1889-01-01          1.515293  ...     4.244226e-13   1.390174e-13   \n",
       "1889-01-02          4.771375  ...     4.409552e+00   1.222283e-01   \n",
       "1889-01-03          4.233980  ...     2.269300e-01   3.762301e-01   \n",
       "1889-01-04         15.252495  ...     2.344586e-02   4.214019e-01   \n",
       "1889-01-05         11.920356  ...     4.270161e-13   1.879692e-01   \n",
       "\n",
       "            MPI-ESM1-2-LR    MRI-ESM2-0         NESM3    NorESM2-LM  \\\n",
       "time                                                                  \n",
       "1889-01-01   6.537884e-05  3.445495e-06  1.576096e+01  4.759651e-05   \n",
       "1889-01-02   1.049131e-13  4.791993e-09  3.675510e-01  4.350863e-01   \n",
       "1889-01-03   9.758706e-14  6.912302e-01  1.562869e-01  9.561101e+00   \n",
       "1889-01-04   7.060915e-03  3.835721e-02  2.472226e-07  5.301038e-01   \n",
       "1889-01-05   4.504985e+00  3.506923e-07  1.949792e-13  1.460928e-10   \n",
       "\n",
       "            NorESM2-MM  SAM0-UNICON   TaiESM1   observed  \n",
       "time                                                      \n",
       "1889-01-01    2.451075     0.221324  2.257933   0.006612  \n",
       "1889-01-02    0.477231     3.757179  2.287381   0.090422  \n",
       "1889-01-03    0.023083     0.253357  1.199909   1.401452  \n",
       "1889-01-04    0.002699     2.185454  2.106737  14.869798  \n",
       "1889-01-05    0.001026     2.766507  1.763335   0.467628  \n",
       "\n",
       "[5 rows x 26 columns]"
      ]
     },
     "execution_count": 54,
     "metadata": {},
     "output_type": "execute_result"
    }
   ],
   "source": [
    "validate_df.head()"
   ]
  }
 ],
 "metadata": {
  "kernelspec": {
   "display_name": "Python [conda env:525]",
   "language": "python",
   "name": "conda-env-525-py"
  },
  "language_info": {
   "codemirror_mode": {
    "name": "ipython",
    "version": 3
   },
   "file_extension": ".py",
   "mimetype": "text/x-python",
   "name": "python",
   "nbconvert_exporter": "python",
   "pygments_lexer": "ipython3",
   "version": "3.10.10"
  },
  "vscode": {
   "interpreter": {
    "hash": "f75bc37be52f1a54b499f2bd249d6269a196b34b202e3f84ac376713198385a3"
   }
  }
 },
 "nbformat": 4,
 "nbformat_minor": 5
}
